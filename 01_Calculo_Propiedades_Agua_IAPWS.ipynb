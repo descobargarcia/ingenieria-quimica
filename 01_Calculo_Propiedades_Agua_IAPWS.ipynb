{
  "cells": [
    {
      "cell_type": "markdown",
      "metadata": {
        "id": "view-in-github",
        "colab_type": "text"
      },
      "source": [
        "<a href=\"https://colab.research.google.com/github/descobargarcia/ingenieria-quimica/blob/colab_import/01_Calculo_Propiedades_Agua_IAPWS.ipynb\" target=\"_parent\"><img src=\"https://colab.research.google.com/assets/colab-badge.svg\" alt=\"Open In Colab\"/></a>"
      ]
    },
    {
      "cell_type": "markdown",
      "metadata": {
        "id": "LnDYisznHyHV"
      },
      "source": [
        "# **CÁLCULO Y VISUALIZACIÓN DE PROPIEDADES TERMODINÁMICAS DEL AGUA EN PYTHON**\n",
        "\n",
        "El agua es un componente presente en la mayoría de los procesos industriales químicos, ya que suele utilizarse tanto para los servicios de calentamiento (fase vapor) como los de enfriamiento (fase líquida). Por lo tanto, resulta importante calcular con exactitud sus propiedades termodinámicas y conocer su comportamiento de fases. Sin embargo, es un componente difícil de modelar para las ecuaciones de estado comunes, por lo cual requiere sus propios modelos termodinámicos. En ese sentido, se utilizan como principal referencia las formulaciones termodinámicas desarrollados por la [IAPWS](http://iapws.org/index.html) (International Association for the Properties of Water and Steam), siendo las más recientes la IAPWS-95 para uso científico y la IAPWS-IF97 para uso industrial.\n",
        "\n",
        "Las ecuaciones de estos modelos son muy complejas, lo cual dificulta programarlas de forma particular en aplicaciones como Excel para calcular tablas de propiedades termodinámicas. Existen varias implementaciones en software, pero son de licencia paga. Afortunadamente, también existe una implementación de licencia libre en Python. Este lenguaje de programación es muy fácil de usar por su sintaxis sencilla, y se aplica mucho en la actualidad para ciencia de datos. Además, permite desarrollar programas que luego pueden integrarse en otros entornos. Por ejemplo, el simulador de uso gratuito DWSIM acepta scripting de Python.\n",
        "\n",
        "En esta publicación, veremos cómo utilizar en Python la librería [iapws](https://iapws.readthedocs.io/en/latest/) para definir un estado termodinámico del agua y calcular sus propiedades. Además, utilizaremos librerías de ciencia de datos como [NumPy](https://numpy.org/doc/), [pandas](https://pandas.pydata.org/docs/) y [Matplotlib](https://matplotlib.org/) para extender los cálculos a muchos puntos y visualizar los resultados como tablas y diagramas."
      ]
    },
    {
      "cell_type": "markdown",
      "metadata": {
        "id": "u67GujYZHlxC"
      },
      "source": [
        "## Librería `iapws`\n",
        "\n",
        "La librería `iapws` es una implementación en Python de las formulaciones estándar de la IAPWS (http://www.iapws.org/release.html).\n",
        "\n",
        "- **Autor**: Juan José Gómez Romera (<jjgomera@gmail.com>)\n",
        "- **Licencia**: GPL-3\n",
        "> \"Esta licencia de derecho de autor ampliamente usada en el mundo del software libre y código abierto, y garantiza a los usuarios finales (personas, organizaciones, compañías) la libertad de usar, estudiar, compartir (copiar) y modificar el software\". *Fuente*: https://es.wikipedia.org/wiki/GNU_General_Public_License\n",
        "- **Documentación**: http://iapws.readthedocs.io/\n",
        "- **Repositorio**: https://github.com/jjgomera/iapws\n",
        "\n",
        "\n",
        "Para utilizar la librería, primero debemos instalarla:"
      ]
    },
    {
      "cell_type": "code",
      "execution_count": 1,
      "metadata": {
        "colab": {
          "base_uri": "https://localhost:8080/"
        },
        "id": "Fq4RxOZR-fWl",
        "outputId": "214253f2-4d72-4756-e1f2-2e22985c1d06"
      },
      "outputs": [
        {
          "output_type": "stream",
          "name": "stdout",
          "text": [
            "Requirement already satisfied: iapws in /usr/local/lib/python3.10/dist-packages (1.5.4)\n",
            "Requirement already satisfied: scipy>=1.2 in /usr/local/lib/python3.10/dist-packages (from iapws) (1.11.4)\n",
            "Requirement already satisfied: numpy<1.28.0,>=1.21.6 in /usr/local/lib/python3.10/dist-packages (from scipy>=1.2->iapws) (1.25.2)\n"
          ]
        }
      ],
      "source": [
        "!pip install iapws"
      ]
    },
    {
      "cell_type": "markdown",
      "metadata": {
        "id": "peywqCAhqKQd"
      },
      "source": [
        "Para trabajar con la formulación IAPWS-IF97, debemos **importar** el módulo `IAPWS97` de la librería `iapws`:"
      ]
    },
    {
      "cell_type": "code",
      "execution_count": 2,
      "metadata": {
        "id": "u0ohnTFIDTc4"
      },
      "outputs": [],
      "source": [
        "from iapws import IAPWS97"
      ]
    },
    {
      "cell_type": "markdown",
      "metadata": {
        "id": "dbZl696oqcMZ"
      },
      "source": [
        "A continuación, se muestra una lista de algunas propiedades que podemos utilizar en este módulo, así como sus respectivas unidades:\n",
        "\n",
        "| Variable | Propiedad           | Unidades  |\n",
        "|:--------:|:-------------------:|:---------:|\n",
        "|P         | Presión             | MPa       |\n",
        "|T         | Temperatura         | K         |\n",
        "|v         | Volumen específico  | m3/kg     |\n",
        "|h         | Entalpía específica | kJ/kg     |\n",
        "|s         | Entropía específica | kJ/(kg.K) |\n",
        "|x         | Calidad de vapor    | ---       |\n",
        "\n",
        "Estas unidades aplican siempre, tanto para las propiedades especificadas como las calculadas."
      ]
    },
    {
      "cell_type": "markdown",
      "metadata": {
        "id": "aUYThW0N23is"
      },
      "source": [
        "**Indicaciones para el uso del módulo `iapws.IAPWS97`**\n",
        "\n",
        "- El módulo aplica el paradigma de _Programación Orientada a Objetos_ (POO): primero, debemos crear un estado termodinámico (especificando 2 propiedades) como un objeto; luego, consultamos las demás propiedades calculadas\n",
        "- Región de 2 fases (equilibrio líquido - vapor):\n",
        "    - Especificaciones válidas\n",
        "        - `(T, x)`\n",
        "        - `(P, x)`\n",
        "    - La fracción de vapor `x` debe estar comprendida entre `0` (líquido saturado) y `1` (vapor saturado).\n",
        "- Regiones de 1 fase (vapor sobrecalentado o líquido comprimido):\n",
        "    - Especificaciones válidas\n",
        "        - `(T, P)`\n",
        "        - `(P, h`)\n",
        "        - `(P, s)`\n",
        "        - `(h, s)`\n",
        "- Si intentamos crear un estado termodinámico con alguna especificación \"no válida\", surgirá un error (`AttributeError`) luego al intentar acceder a sus propiedades"
      ]
    },
    {
      "cell_type": "markdown",
      "metadata": {
        "id": "2p9eLA6C4Z81"
      },
      "source": [
        "**Ejemplo 1**: Vapor saturado a 100ºC\n",
        "- Vapor saturado → **x = 1**\n",
        "- T = 100 ºC = (100 + 273.15) K → **T = 373.15 K**"
      ]
    },
    {
      "cell_type": "code",
      "execution_count": 3,
      "metadata": {
        "colab": {
          "base_uri": "https://localhost:8080/"
        },
        "id": "pRBjhdoh-bHf",
        "outputId": "ddac8162-dce4-4f97-ca32-f42c7ed965e5"
      },
      "outputs": [
        {
          "output_type": "stream",
          "name": "stdout",
          "text": [
            "P1 = 0.101418 \t MPa\n",
            "v1 = 1.67186 \t m3/kg\n",
            "h1 = 2675.57 \t kJ/kg\n",
            "s1 = 7.35408 \t kJ/(kg.K)\n",
            "fase = 'Vapour'\n"
          ]
        }
      ],
      "source": [
        "# Estado termodinámico (especif.)\n",
        "estado_1 = IAPWS97(T=373.15, x=1)\n",
        "# Cálculo de propiedades\n",
        "P1 = estado_1.P\n",
        "v1 = estado_1.v\n",
        "h1 = estado_1.h\n",
        "s1 = estado_1.s\n",
        "# Estado de agregación\n",
        "fase = estado_1.phase\n",
        "# Imprimiendo resultados\n",
        "print(f\"{P1 = :.6f} \\t MPa\")\n",
        "print(f\"{v1 = :.5f} \\t m3/kg\")\n",
        "print(f\"{h1 = :.2f} \\t kJ/kg\")\n",
        "print(f\"{s1 = :.5f} \\t kJ/(kg.K)\")\n",
        "print(f\"{fase = }\")"
      ]
    },
    {
      "cell_type": "markdown",
      "metadata": {
        "id": "fzDQSSpD5ep1"
      },
      "source": [
        "**Ejemplo 2:** Vapor sobrecalentado a 2.5 MPa y 300ºC\n",
        "- **P = 2.5 MPa**\n",
        "- T = (300 + 273.15) K → **T = 573.15 K**"
      ]
    },
    {
      "cell_type": "code",
      "execution_count": 4,
      "metadata": {
        "colab": {
          "base_uri": "https://localhost:8080/"
        },
        "id": "dsTt083C-m0l",
        "outputId": "f5566673-42a9-4c49-d5f9-7d857ef1220d"
      },
      "outputs": [
        {
          "output_type": "stream",
          "name": "stdout",
          "text": [
            "v2 = 0.098932 m3/kg\n",
            "h2 = 3009.63 kJ/kg\n",
            "s2 = 6.645958 kJ/(kg.K)\n",
            "x2 = 1\n",
            "fase = 'Vapour'\n"
          ]
        }
      ],
      "source": [
        "# Estado termodinámico (especif.)\n",
        "P2 = 2.5    # MPa\n",
        "T2 = 573.15 # K\n",
        "estado_2 = IAPWS97(P=2.5, T=573.15)\n",
        "# Cálculo de propiedades\n",
        "v2 = estado_2.v\n",
        "h2 = estado_2.h\n",
        "s2 = estado_2.s\n",
        "x2 = estado_2.x\n",
        "# Estado de agregación\n",
        "fase = estado_2.phase\n",
        "# Imprimiendo resultados\n",
        "print(f\"{v2 = :.6f} m3/kg\")\n",
        "print(f\"{h2 = :.2f} kJ/kg\")\n",
        "print(f\"{s2 = :.6f} kJ/(kg.K)\")\n",
        "print(f\"{x2 = }\")\n",
        "print(f\"{fase = }\")"
      ]
    },
    {
      "cell_type": "markdown",
      "metadata": {
        "id": "GOqefFnBwjuv"
      },
      "source": [
        "Si nos interesa el cálculo de una propiedad en particular,\n",
        "se puede *encapsular* en una función propia. A continuación, se muestran 2 ejemplos de funciones que reutilizaremos más adelante:"
      ]
    },
    {
      "cell_type": "code",
      "execution_count": 5,
      "metadata": {
        "colab": {
          "base_uri": "https://localhost:8080/"
        },
        "id": "dm17FzvHGOY-",
        "outputId": "86e78970-1c38-479b-af6d-a0a0e303d626"
      },
      "outputs": [
        {
          "output_type": "stream",
          "name": "stdout",
          "text": [
            "v2 = 0.098932 m3/kg\n"
          ]
        }
      ],
      "source": [
        "def calc_v_TP(T: float, P: float) -> float:\n",
        "    \"\"\"Calcula el volumen específico `v` (m3/kg) del agua,\n",
        "    a partir de su temperatura `T` (K) y presión `P` (MPa)\"\"\"\n",
        "    estado = IAPWS97(T=T, P=P)\n",
        "    return estado.v\n",
        "\n",
        "v2 = calc_v_TP(T2, P2)\n",
        "print(f\"{v2 = :.6f} m3/kg\")"
      ]
    },
    {
      "cell_type": "code",
      "execution_count": 6,
      "metadata": {
        "colab": {
          "base_uri": "https://localhost:8080/"
        },
        "id": "q_EoBGSXDvhT",
        "outputId": "ad75dd63-c31f-4208-eb14-9681a87129f8"
      },
      "outputs": [
        {
          "output_type": "stream",
          "name": "stdout",
          "text": [
            "fase = 'Vapour'\n"
          ]
        }
      ],
      "source": [
        "def id_fase_TP(T: float, P: float) -> float:\n",
        "    \"\"\"Identifica la fase del agua, a partir de su temperatura `T` (K)\n",
        "    y presión `P` (MPa)\"\"\"\n",
        "    estado = IAPWS97(T=T, P=P)\n",
        "    return estado.phase\n",
        "\n",
        "fase = id_fase_TP(T2, P2)\n",
        "print(f\"{fase = }\")"
      ]
    },
    {
      "cell_type": "markdown",
      "metadata": {
        "id": "bFqWnepX0hXf"
      },
      "source": [
        "## Librería `NumPy`\n",
        "\n",
        "`NumPy` es una librería de Python que facilita el manejo eficiente de arreglos numéricos y cálculos matemáticos, siendo útil para tareas como análisis de datos, computación científica y desarrollo de algoritmos numéricos.\n",
        "\n",
        "Para usar esta librería, debemos importarla:"
      ]
    },
    {
      "cell_type": "code",
      "execution_count": 7,
      "metadata": {
        "id": "MpbPdF2p-eqO"
      },
      "outputs": [],
      "source": [
        "import numpy as np"
      ]
    },
    {
      "cell_type": "markdown",
      "metadata": {
        "id": "v3rkU5Mvw7DU"
      },
      "source": [
        "Anteriormente, vimos cómo obtener las propiedades termodinámicas para un punto. Ahora queremos calcular una **isoterma** (línea de puntos a temperatura constante) para un **diagrama Pv**.\n",
        "\n",
        "En un primer enfoque, crearemos un conjunto de puntos linealmente equiespaciados en presión, mediante el comando `linspace`. Luego, calcularemos el volumen y verificaremos la fase de cada punto, almacenando los resultados en arreglos de datos (`arrays`)."
      ]
    },
    {
      "cell_type": "code",
      "execution_count": 8,
      "metadata": {
        "id": "67fBVasSDc7D"
      },
      "outputs": [],
      "source": [
        "T1 = 373.15 # K\n",
        "n_dat = 19\n",
        "P_min = 0.01 # MPa\n",
        "P_max = 0.10 # MPa\n",
        "presiones = np.linspace(P_min, P_max, n_dat)\n",
        "volumenes_T1 = np.array([calc_v_TP(T1, P) for P in presiones])\n",
        "fases_T1 = np.array([id_fase_TP(T1, P) for P in presiones])"
      ]
    },
    {
      "cell_type": "markdown",
      "metadata": {
        "id": "BhGYAE60CuZu"
      },
      "source": [
        "Antes de avanzar con la representación gráfica, deberíamos inspeccionar los resultados. En ese sentido, la librería `pandas` es muy útil."
      ]
    },
    {
      "cell_type": "markdown",
      "metadata": {
        "id": "UdFf8jZPDjk4"
      },
      "source": [
        "## Librería `pandas`\n",
        "\n",
        "La librería de Python `pandas` está diseñada para la manipulación y análisis de datos tabulares, permitiendo cargar, limpiar, transformar y analizar datos de manera sencilla y eficiente. Esto resulta especialmente útil para trabajos con conjuntos de datos estructurados, como hojas de cálculo o bases de datos.\n",
        "\n",
        "Para utilizarla, necesitamos primero importarla:"
      ]
    },
    {
      "cell_type": "code",
      "execution_count": 9,
      "metadata": {
        "id": "Z5UobEQfH-9q"
      },
      "outputs": [],
      "source": [
        "import pandas as pd"
      ]
    },
    {
      "cell_type": "markdown",
      "metadata": {
        "id": "lJxYlRbPD7Fo"
      },
      "source": [
        "Para generar nuestra tabla, primero debemos estructurar los datos como un diccionario `{clave: valor}`. Las \"claves\" serán los encabezados de las columnas, mientras que los \"valores\" serán los arreglos de datos respectivos. A partir del diccionario, podemos construir luego un `DataFrame` de `pandas`, que podremos visualizar como una tabla.\n",
        "\n",
        "A continuación, se muestra el procedimiento:"
      ]
    },
    {
      "cell_type": "code",
      "execution_count": 10,
      "metadata": {
        "colab": {
          "base_uri": "https://localhost:8080/",
          "height": 644
        },
        "id": "UbW2sNEkDguQ",
        "outputId": "c63cabb5-08a2-468c-b605-e3a7cda6ff70"
      },
      "outputs": [
        {
          "output_type": "execute_result",
          "data": {
            "text/plain": [
              "    P (MPa)  v (m3/kg)    Fase\n",
              "0     0.010  17.196725  Vapour\n",
              "1     0.015  11.456053  Vapour\n",
              "2     0.020   8.585687  Vapour\n",
              "3     0.025   6.863445  Vapour\n",
              "4     0.030   5.715264  Vapour\n",
              "5     0.035   4.895117  Vapour\n",
              "6     0.040   4.279992  Vapour\n",
              "7     0.045   3.801549  Vapour\n",
              "8     0.050   3.418781  Vapour\n",
              "9     0.055   3.105597  Vapour\n",
              "10    0.060   2.844599  Vapour\n",
              "11    0.065   2.623745  Vapour\n",
              "12    0.070   2.434433  Vapour\n",
              "13    0.075   2.270352  Vapour\n",
              "14    0.080   2.126773  Vapour\n",
              "15    0.085   2.000077  Vapour\n",
              "16    0.090   1.887450  Vapour\n",
              "17    0.095   1.786670  Vapour\n",
              "18    0.100   1.695959  Vapour"
            ],
            "text/html": [
              "\n",
              "  <div id=\"df-47b8c8b0-03c7-4224-bcd5-71de917e42f4\" class=\"colab-df-container\">\n",
              "    <div>\n",
              "<style scoped>\n",
              "    .dataframe tbody tr th:only-of-type {\n",
              "        vertical-align: middle;\n",
              "    }\n",
              "\n",
              "    .dataframe tbody tr th {\n",
              "        vertical-align: top;\n",
              "    }\n",
              "\n",
              "    .dataframe thead th {\n",
              "        text-align: right;\n",
              "    }\n",
              "</style>\n",
              "<table border=\"1\" class=\"dataframe\">\n",
              "  <thead>\n",
              "    <tr style=\"text-align: right;\">\n",
              "      <th></th>\n",
              "      <th>P (MPa)</th>\n",
              "      <th>v (m3/kg)</th>\n",
              "      <th>Fase</th>\n",
              "    </tr>\n",
              "  </thead>\n",
              "  <tbody>\n",
              "    <tr>\n",
              "      <th>0</th>\n",
              "      <td>0.010</td>\n",
              "      <td>17.196725</td>\n",
              "      <td>Vapour</td>\n",
              "    </tr>\n",
              "    <tr>\n",
              "      <th>1</th>\n",
              "      <td>0.015</td>\n",
              "      <td>11.456053</td>\n",
              "      <td>Vapour</td>\n",
              "    </tr>\n",
              "    <tr>\n",
              "      <th>2</th>\n",
              "      <td>0.020</td>\n",
              "      <td>8.585687</td>\n",
              "      <td>Vapour</td>\n",
              "    </tr>\n",
              "    <tr>\n",
              "      <th>3</th>\n",
              "      <td>0.025</td>\n",
              "      <td>6.863445</td>\n",
              "      <td>Vapour</td>\n",
              "    </tr>\n",
              "    <tr>\n",
              "      <th>4</th>\n",
              "      <td>0.030</td>\n",
              "      <td>5.715264</td>\n",
              "      <td>Vapour</td>\n",
              "    </tr>\n",
              "    <tr>\n",
              "      <th>5</th>\n",
              "      <td>0.035</td>\n",
              "      <td>4.895117</td>\n",
              "      <td>Vapour</td>\n",
              "    </tr>\n",
              "    <tr>\n",
              "      <th>6</th>\n",
              "      <td>0.040</td>\n",
              "      <td>4.279992</td>\n",
              "      <td>Vapour</td>\n",
              "    </tr>\n",
              "    <tr>\n",
              "      <th>7</th>\n",
              "      <td>0.045</td>\n",
              "      <td>3.801549</td>\n",
              "      <td>Vapour</td>\n",
              "    </tr>\n",
              "    <tr>\n",
              "      <th>8</th>\n",
              "      <td>0.050</td>\n",
              "      <td>3.418781</td>\n",
              "      <td>Vapour</td>\n",
              "    </tr>\n",
              "    <tr>\n",
              "      <th>9</th>\n",
              "      <td>0.055</td>\n",
              "      <td>3.105597</td>\n",
              "      <td>Vapour</td>\n",
              "    </tr>\n",
              "    <tr>\n",
              "      <th>10</th>\n",
              "      <td>0.060</td>\n",
              "      <td>2.844599</td>\n",
              "      <td>Vapour</td>\n",
              "    </tr>\n",
              "    <tr>\n",
              "      <th>11</th>\n",
              "      <td>0.065</td>\n",
              "      <td>2.623745</td>\n",
              "      <td>Vapour</td>\n",
              "    </tr>\n",
              "    <tr>\n",
              "      <th>12</th>\n",
              "      <td>0.070</td>\n",
              "      <td>2.434433</td>\n",
              "      <td>Vapour</td>\n",
              "    </tr>\n",
              "    <tr>\n",
              "      <th>13</th>\n",
              "      <td>0.075</td>\n",
              "      <td>2.270352</td>\n",
              "      <td>Vapour</td>\n",
              "    </tr>\n",
              "    <tr>\n",
              "      <th>14</th>\n",
              "      <td>0.080</td>\n",
              "      <td>2.126773</td>\n",
              "      <td>Vapour</td>\n",
              "    </tr>\n",
              "    <tr>\n",
              "      <th>15</th>\n",
              "      <td>0.085</td>\n",
              "      <td>2.000077</td>\n",
              "      <td>Vapour</td>\n",
              "    </tr>\n",
              "    <tr>\n",
              "      <th>16</th>\n",
              "      <td>0.090</td>\n",
              "      <td>1.887450</td>\n",
              "      <td>Vapour</td>\n",
              "    </tr>\n",
              "    <tr>\n",
              "      <th>17</th>\n",
              "      <td>0.095</td>\n",
              "      <td>1.786670</td>\n",
              "      <td>Vapour</td>\n",
              "    </tr>\n",
              "    <tr>\n",
              "      <th>18</th>\n",
              "      <td>0.100</td>\n",
              "      <td>1.695959</td>\n",
              "      <td>Vapour</td>\n",
              "    </tr>\n",
              "  </tbody>\n",
              "</table>\n",
              "</div>\n",
              "    <div class=\"colab-df-buttons\">\n",
              "\n",
              "  <div class=\"colab-df-container\">\n",
              "    <button class=\"colab-df-convert\" onclick=\"convertToInteractive('df-47b8c8b0-03c7-4224-bcd5-71de917e42f4')\"\n",
              "            title=\"Convert this dataframe to an interactive table.\"\n",
              "            style=\"display:none;\">\n",
              "\n",
              "  <svg xmlns=\"http://www.w3.org/2000/svg\" height=\"24px\" viewBox=\"0 -960 960 960\">\n",
              "    <path d=\"M120-120v-720h720v720H120Zm60-500h600v-160H180v160Zm220 220h160v-160H400v160Zm0 220h160v-160H400v160ZM180-400h160v-160H180v160Zm440 0h160v-160H620v160ZM180-180h160v-160H180v160Zm440 0h160v-160H620v160Z\"/>\n",
              "  </svg>\n",
              "    </button>\n",
              "\n",
              "  <style>\n",
              "    .colab-df-container {\n",
              "      display:flex;\n",
              "      gap: 12px;\n",
              "    }\n",
              "\n",
              "    .colab-df-convert {\n",
              "      background-color: #E8F0FE;\n",
              "      border: none;\n",
              "      border-radius: 50%;\n",
              "      cursor: pointer;\n",
              "      display: none;\n",
              "      fill: #1967D2;\n",
              "      height: 32px;\n",
              "      padding: 0 0 0 0;\n",
              "      width: 32px;\n",
              "    }\n",
              "\n",
              "    .colab-df-convert:hover {\n",
              "      background-color: #E2EBFA;\n",
              "      box-shadow: 0px 1px 2px rgba(60, 64, 67, 0.3), 0px 1px 3px 1px rgba(60, 64, 67, 0.15);\n",
              "      fill: #174EA6;\n",
              "    }\n",
              "\n",
              "    .colab-df-buttons div {\n",
              "      margin-bottom: 4px;\n",
              "    }\n",
              "\n",
              "    [theme=dark] .colab-df-convert {\n",
              "      background-color: #3B4455;\n",
              "      fill: #D2E3FC;\n",
              "    }\n",
              "\n",
              "    [theme=dark] .colab-df-convert:hover {\n",
              "      background-color: #434B5C;\n",
              "      box-shadow: 0px 1px 3px 1px rgba(0, 0, 0, 0.15);\n",
              "      filter: drop-shadow(0px 1px 2px rgba(0, 0, 0, 0.3));\n",
              "      fill: #FFFFFF;\n",
              "    }\n",
              "  </style>\n",
              "\n",
              "    <script>\n",
              "      const buttonEl =\n",
              "        document.querySelector('#df-47b8c8b0-03c7-4224-bcd5-71de917e42f4 button.colab-df-convert');\n",
              "      buttonEl.style.display =\n",
              "        google.colab.kernel.accessAllowed ? 'block' : 'none';\n",
              "\n",
              "      async function convertToInteractive(key) {\n",
              "        const element = document.querySelector('#df-47b8c8b0-03c7-4224-bcd5-71de917e42f4');\n",
              "        const dataTable =\n",
              "          await google.colab.kernel.invokeFunction('convertToInteractive',\n",
              "                                                    [key], {});\n",
              "        if (!dataTable) return;\n",
              "\n",
              "        const docLinkHtml = 'Like what you see? Visit the ' +\n",
              "          '<a target=\"_blank\" href=https://colab.research.google.com/notebooks/data_table.ipynb>data table notebook</a>'\n",
              "          + ' to learn more about interactive tables.';\n",
              "        element.innerHTML = '';\n",
              "        dataTable['output_type'] = 'display_data';\n",
              "        await google.colab.output.renderOutput(dataTable, element);\n",
              "        const docLink = document.createElement('div');\n",
              "        docLink.innerHTML = docLinkHtml;\n",
              "        element.appendChild(docLink);\n",
              "      }\n",
              "    </script>\n",
              "  </div>\n",
              "\n",
              "\n",
              "<div id=\"df-111f7464-3e0a-46ce-917d-f361912e2cfb\">\n",
              "  <button class=\"colab-df-quickchart\" onclick=\"quickchart('df-111f7464-3e0a-46ce-917d-f361912e2cfb')\"\n",
              "            title=\"Suggest charts\"\n",
              "            style=\"display:none;\">\n",
              "\n",
              "<svg xmlns=\"http://www.w3.org/2000/svg\" height=\"24px\"viewBox=\"0 0 24 24\"\n",
              "     width=\"24px\">\n",
              "    <g>\n",
              "        <path d=\"M19 3H5c-1.1 0-2 .9-2 2v14c0 1.1.9 2 2 2h14c1.1 0 2-.9 2-2V5c0-1.1-.9-2-2-2zM9 17H7v-7h2v7zm4 0h-2V7h2v10zm4 0h-2v-4h2v4z\"/>\n",
              "    </g>\n",
              "</svg>\n",
              "  </button>\n",
              "\n",
              "<style>\n",
              "  .colab-df-quickchart {\n",
              "      --bg-color: #E8F0FE;\n",
              "      --fill-color: #1967D2;\n",
              "      --hover-bg-color: #E2EBFA;\n",
              "      --hover-fill-color: #174EA6;\n",
              "      --disabled-fill-color: #AAA;\n",
              "      --disabled-bg-color: #DDD;\n",
              "  }\n",
              "\n",
              "  [theme=dark] .colab-df-quickchart {\n",
              "      --bg-color: #3B4455;\n",
              "      --fill-color: #D2E3FC;\n",
              "      --hover-bg-color: #434B5C;\n",
              "      --hover-fill-color: #FFFFFF;\n",
              "      --disabled-bg-color: #3B4455;\n",
              "      --disabled-fill-color: #666;\n",
              "  }\n",
              "\n",
              "  .colab-df-quickchart {\n",
              "    background-color: var(--bg-color);\n",
              "    border: none;\n",
              "    border-radius: 50%;\n",
              "    cursor: pointer;\n",
              "    display: none;\n",
              "    fill: var(--fill-color);\n",
              "    height: 32px;\n",
              "    padding: 0;\n",
              "    width: 32px;\n",
              "  }\n",
              "\n",
              "  .colab-df-quickchart:hover {\n",
              "    background-color: var(--hover-bg-color);\n",
              "    box-shadow: 0 1px 2px rgba(60, 64, 67, 0.3), 0 1px 3px 1px rgba(60, 64, 67, 0.15);\n",
              "    fill: var(--button-hover-fill-color);\n",
              "  }\n",
              "\n",
              "  .colab-df-quickchart-complete:disabled,\n",
              "  .colab-df-quickchart-complete:disabled:hover {\n",
              "    background-color: var(--disabled-bg-color);\n",
              "    fill: var(--disabled-fill-color);\n",
              "    box-shadow: none;\n",
              "  }\n",
              "\n",
              "  .colab-df-spinner {\n",
              "    border: 2px solid var(--fill-color);\n",
              "    border-color: transparent;\n",
              "    border-bottom-color: var(--fill-color);\n",
              "    animation:\n",
              "      spin 1s steps(1) infinite;\n",
              "  }\n",
              "\n",
              "  @keyframes spin {\n",
              "    0% {\n",
              "      border-color: transparent;\n",
              "      border-bottom-color: var(--fill-color);\n",
              "      border-left-color: var(--fill-color);\n",
              "    }\n",
              "    20% {\n",
              "      border-color: transparent;\n",
              "      border-left-color: var(--fill-color);\n",
              "      border-top-color: var(--fill-color);\n",
              "    }\n",
              "    30% {\n",
              "      border-color: transparent;\n",
              "      border-left-color: var(--fill-color);\n",
              "      border-top-color: var(--fill-color);\n",
              "      border-right-color: var(--fill-color);\n",
              "    }\n",
              "    40% {\n",
              "      border-color: transparent;\n",
              "      border-right-color: var(--fill-color);\n",
              "      border-top-color: var(--fill-color);\n",
              "    }\n",
              "    60% {\n",
              "      border-color: transparent;\n",
              "      border-right-color: var(--fill-color);\n",
              "    }\n",
              "    80% {\n",
              "      border-color: transparent;\n",
              "      border-right-color: var(--fill-color);\n",
              "      border-bottom-color: var(--fill-color);\n",
              "    }\n",
              "    90% {\n",
              "      border-color: transparent;\n",
              "      border-bottom-color: var(--fill-color);\n",
              "    }\n",
              "  }\n",
              "</style>\n",
              "\n",
              "  <script>\n",
              "    async function quickchart(key) {\n",
              "      const quickchartButtonEl =\n",
              "        document.querySelector('#' + key + ' button');\n",
              "      quickchartButtonEl.disabled = true;  // To prevent multiple clicks.\n",
              "      quickchartButtonEl.classList.add('colab-df-spinner');\n",
              "      try {\n",
              "        const charts = await google.colab.kernel.invokeFunction(\n",
              "            'suggestCharts', [key], {});\n",
              "      } catch (error) {\n",
              "        console.error('Error during call to suggestCharts:', error);\n",
              "      }\n",
              "      quickchartButtonEl.classList.remove('colab-df-spinner');\n",
              "      quickchartButtonEl.classList.add('colab-df-quickchart-complete');\n",
              "    }\n",
              "    (() => {\n",
              "      let quickchartButtonEl =\n",
              "        document.querySelector('#df-111f7464-3e0a-46ce-917d-f361912e2cfb button');\n",
              "      quickchartButtonEl.style.display =\n",
              "        google.colab.kernel.accessAllowed ? 'block' : 'none';\n",
              "    })();\n",
              "  </script>\n",
              "</div>\n",
              "\n",
              "    </div>\n",
              "  </div>\n"
            ],
            "application/vnd.google.colaboratory.intrinsic+json": {
              "type": "dataframe",
              "summary": "{\n  \"name\": \"pd\",\n  \"rows\": 19,\n  \"fields\": [\n    {\n      \"column\": \"P (MPa)\",\n      \"properties\": {\n        \"dtype\": \"number\",\n        \"std\": 0.028136571693556888,\n        \"min\": 0.01,\n        \"max\": 0.1,\n        \"num_unique_values\": 19,\n        \"samples\": [\n          0.01,\n          0.035,\n          0.065\n        ],\n        \"semantic_type\": \"\",\n        \"description\": \"\"\n      }\n    },\n    {\n      \"column\": \"v (m3/kg)\",\n      \"properties\": {\n        \"dtype\": \"number\",\n        \"std\": 3.9857036652119966,\n        \"min\": 1.6959594073982218,\n        \"max\": 17.196724629921768,\n        \"num_unique_values\": 19,\n        \"samples\": [\n          17.196724629921768,\n          4.895117121262879,\n          2.6237453422338803\n        ],\n        \"semantic_type\": \"\",\n        \"description\": \"\"\n      }\n    },\n    {\n      \"column\": \"Fase\",\n      \"properties\": {\n        \"dtype\": \"category\",\n        \"num_unique_values\": 1,\n        \"samples\": [\n          \"Vapour\"\n        ],\n        \"semantic_type\": \"\",\n        \"description\": \"\"\n      }\n    }\n  ]\n}"
            }
          },
          "metadata": {},
          "execution_count": 10
        }
      ],
      "source": [
        "isoterma_T1 = {\n",
        "    'P (MPa)': presiones,\n",
        "    'v (m3/kg)': volumenes_T1,\n",
        "    'Fase': fases_T1,\n",
        "    }\n",
        "pd.DataFrame(isoterma_T1)"
      ]
    },
    {
      "cell_type": "markdown",
      "metadata": {
        "id": "TM9atdEpHtf5"
      },
      "source": [
        "Analizando los resultados, observamos que:\n",
        "1. Al aumentar `P`, disminuye `v`\n",
        "2. Todos los puntos se encuentran en la fase vapor.\n",
        "\n",
        "Para la isoterma elegida (100 ºC), es bien conocido que su $P^{sat}$ es 1 atm (0.101325 MPa).\n",
        "\n",
        "Como el rango utilizado de `P` (0.01 - 0.10 MPa) es inferior a la $P^{sat}$, el estado de agregación tiene que ser vapor sobrecalentado. Para esta fase, lo esperado es que el volumen sea inversamente proporcional a la presión.\n",
        "\n",
        "Por tanto, los resultados parecen correctos."
      ]
    },
    {
      "cell_type": "markdown",
      "metadata": {
        "id": "ROprQ-sgYIuz"
      },
      "source": [
        "## Vectorización de funciones\n",
        "\n",
        "Hasta ahora, obtuvimos un arreglo de volúmenes iterando nuestra función `calc_v_TP` sobre un arreglo de presiones. Sin embargo, las funciones de `NumPy` permiten trabajar de forma más directa, ya que pueden aplicarse sobre arreglos y retornar arreglos (siempre y cuando las dimensiones sean compatibles).\n",
        "\n",
        "¿Se puede lograr esto con funciones propias? Sí: utilizando el comando `vectorize`, podemos transformar una función común de Python (propia o externa) en una función de NumPy. Esta característica es muy útil, especialmente cuando se procesan muchos datos (más adelante, necesitaremos calcular cientos o miles de valores).\n"
      ]
    },
    {
      "cell_type": "code",
      "execution_count": 11,
      "metadata": {
        "id": "GWsdrlk7bxDT"
      },
      "outputs": [],
      "source": [
        "# Vectorización de funciones\n",
        "calc_volumenes_isoterma = np.vectorize(calc_v_TP)\n",
        "id_fases_isoterma = np.vectorize(id_fase_TP)\n",
        "# Cálculo de propiedades para la isoterma T1\n",
        "volumenes_T1 = calc_volumenes_isoterma(T1, presiones)\n",
        "fases_T1 = id_fases_isoterma(T1, presiones)"
      ]
    },
    {
      "cell_type": "markdown",
      "metadata": {
        "id": "YwHrXDL2KM_h"
      },
      "source": [
        "Para confirmar que las nuevas funciones vectorizadas trabajan correctamente, creamos otro `DataFrame` de `pandas` con los \"nuevos\" resultados."
      ]
    },
    {
      "cell_type": "code",
      "execution_count": 12,
      "metadata": {
        "colab": {
          "base_uri": "https://localhost:8080/",
          "height": 644
        },
        "id": "G2jBkPu6KLsh",
        "outputId": "1d6eaa22-dbf6-4bd6-b7c0-f898c9d496ba"
      },
      "outputs": [
        {
          "output_type": "execute_result",
          "data": {
            "text/plain": [
              "    P (MPa)  v (m3/kg)   fases\n",
              "0     0.010  17.196725  Vapour\n",
              "1     0.015  11.456053  Vapour\n",
              "2     0.020   8.585687  Vapour\n",
              "3     0.025   6.863445  Vapour\n",
              "4     0.030   5.715264  Vapour\n",
              "5     0.035   4.895117  Vapour\n",
              "6     0.040   4.279992  Vapour\n",
              "7     0.045   3.801549  Vapour\n",
              "8     0.050   3.418781  Vapour\n",
              "9     0.055   3.105597  Vapour\n",
              "10    0.060   2.844599  Vapour\n",
              "11    0.065   2.623745  Vapour\n",
              "12    0.070   2.434433  Vapour\n",
              "13    0.075   2.270352  Vapour\n",
              "14    0.080   2.126773  Vapour\n",
              "15    0.085   2.000077  Vapour\n",
              "16    0.090   1.887450  Vapour\n",
              "17    0.095   1.786670  Vapour\n",
              "18    0.100   1.695959  Vapour"
            ],
            "text/html": [
              "\n",
              "  <div id=\"df-73c9e136-6ffd-4699-813e-558ed73c8e85\" class=\"colab-df-container\">\n",
              "    <div>\n",
              "<style scoped>\n",
              "    .dataframe tbody tr th:only-of-type {\n",
              "        vertical-align: middle;\n",
              "    }\n",
              "\n",
              "    .dataframe tbody tr th {\n",
              "        vertical-align: top;\n",
              "    }\n",
              "\n",
              "    .dataframe thead th {\n",
              "        text-align: right;\n",
              "    }\n",
              "</style>\n",
              "<table border=\"1\" class=\"dataframe\">\n",
              "  <thead>\n",
              "    <tr style=\"text-align: right;\">\n",
              "      <th></th>\n",
              "      <th>P (MPa)</th>\n",
              "      <th>v (m3/kg)</th>\n",
              "      <th>fases</th>\n",
              "    </tr>\n",
              "  </thead>\n",
              "  <tbody>\n",
              "    <tr>\n",
              "      <th>0</th>\n",
              "      <td>0.010</td>\n",
              "      <td>17.196725</td>\n",
              "      <td>Vapour</td>\n",
              "    </tr>\n",
              "    <tr>\n",
              "      <th>1</th>\n",
              "      <td>0.015</td>\n",
              "      <td>11.456053</td>\n",
              "      <td>Vapour</td>\n",
              "    </tr>\n",
              "    <tr>\n",
              "      <th>2</th>\n",
              "      <td>0.020</td>\n",
              "      <td>8.585687</td>\n",
              "      <td>Vapour</td>\n",
              "    </tr>\n",
              "    <tr>\n",
              "      <th>3</th>\n",
              "      <td>0.025</td>\n",
              "      <td>6.863445</td>\n",
              "      <td>Vapour</td>\n",
              "    </tr>\n",
              "    <tr>\n",
              "      <th>4</th>\n",
              "      <td>0.030</td>\n",
              "      <td>5.715264</td>\n",
              "      <td>Vapour</td>\n",
              "    </tr>\n",
              "    <tr>\n",
              "      <th>5</th>\n",
              "      <td>0.035</td>\n",
              "      <td>4.895117</td>\n",
              "      <td>Vapour</td>\n",
              "    </tr>\n",
              "    <tr>\n",
              "      <th>6</th>\n",
              "      <td>0.040</td>\n",
              "      <td>4.279992</td>\n",
              "      <td>Vapour</td>\n",
              "    </tr>\n",
              "    <tr>\n",
              "      <th>7</th>\n",
              "      <td>0.045</td>\n",
              "      <td>3.801549</td>\n",
              "      <td>Vapour</td>\n",
              "    </tr>\n",
              "    <tr>\n",
              "      <th>8</th>\n",
              "      <td>0.050</td>\n",
              "      <td>3.418781</td>\n",
              "      <td>Vapour</td>\n",
              "    </tr>\n",
              "    <tr>\n",
              "      <th>9</th>\n",
              "      <td>0.055</td>\n",
              "      <td>3.105597</td>\n",
              "      <td>Vapour</td>\n",
              "    </tr>\n",
              "    <tr>\n",
              "      <th>10</th>\n",
              "      <td>0.060</td>\n",
              "      <td>2.844599</td>\n",
              "      <td>Vapour</td>\n",
              "    </tr>\n",
              "    <tr>\n",
              "      <th>11</th>\n",
              "      <td>0.065</td>\n",
              "      <td>2.623745</td>\n",
              "      <td>Vapour</td>\n",
              "    </tr>\n",
              "    <tr>\n",
              "      <th>12</th>\n",
              "      <td>0.070</td>\n",
              "      <td>2.434433</td>\n",
              "      <td>Vapour</td>\n",
              "    </tr>\n",
              "    <tr>\n",
              "      <th>13</th>\n",
              "      <td>0.075</td>\n",
              "      <td>2.270352</td>\n",
              "      <td>Vapour</td>\n",
              "    </tr>\n",
              "    <tr>\n",
              "      <th>14</th>\n",
              "      <td>0.080</td>\n",
              "      <td>2.126773</td>\n",
              "      <td>Vapour</td>\n",
              "    </tr>\n",
              "    <tr>\n",
              "      <th>15</th>\n",
              "      <td>0.085</td>\n",
              "      <td>2.000077</td>\n",
              "      <td>Vapour</td>\n",
              "    </tr>\n",
              "    <tr>\n",
              "      <th>16</th>\n",
              "      <td>0.090</td>\n",
              "      <td>1.887450</td>\n",
              "      <td>Vapour</td>\n",
              "    </tr>\n",
              "    <tr>\n",
              "      <th>17</th>\n",
              "      <td>0.095</td>\n",
              "      <td>1.786670</td>\n",
              "      <td>Vapour</td>\n",
              "    </tr>\n",
              "    <tr>\n",
              "      <th>18</th>\n",
              "      <td>0.100</td>\n",
              "      <td>1.695959</td>\n",
              "      <td>Vapour</td>\n",
              "    </tr>\n",
              "  </tbody>\n",
              "</table>\n",
              "</div>\n",
              "    <div class=\"colab-df-buttons\">\n",
              "\n",
              "  <div class=\"colab-df-container\">\n",
              "    <button class=\"colab-df-convert\" onclick=\"convertToInteractive('df-73c9e136-6ffd-4699-813e-558ed73c8e85')\"\n",
              "            title=\"Convert this dataframe to an interactive table.\"\n",
              "            style=\"display:none;\">\n",
              "\n",
              "  <svg xmlns=\"http://www.w3.org/2000/svg\" height=\"24px\" viewBox=\"0 -960 960 960\">\n",
              "    <path d=\"M120-120v-720h720v720H120Zm60-500h600v-160H180v160Zm220 220h160v-160H400v160Zm0 220h160v-160H400v160ZM180-400h160v-160H180v160Zm440 0h160v-160H620v160ZM180-180h160v-160H180v160Zm440 0h160v-160H620v160Z\"/>\n",
              "  </svg>\n",
              "    </button>\n",
              "\n",
              "  <style>\n",
              "    .colab-df-container {\n",
              "      display:flex;\n",
              "      gap: 12px;\n",
              "    }\n",
              "\n",
              "    .colab-df-convert {\n",
              "      background-color: #E8F0FE;\n",
              "      border: none;\n",
              "      border-radius: 50%;\n",
              "      cursor: pointer;\n",
              "      display: none;\n",
              "      fill: #1967D2;\n",
              "      height: 32px;\n",
              "      padding: 0 0 0 0;\n",
              "      width: 32px;\n",
              "    }\n",
              "\n",
              "    .colab-df-convert:hover {\n",
              "      background-color: #E2EBFA;\n",
              "      box-shadow: 0px 1px 2px rgba(60, 64, 67, 0.3), 0px 1px 3px 1px rgba(60, 64, 67, 0.15);\n",
              "      fill: #174EA6;\n",
              "    }\n",
              "\n",
              "    .colab-df-buttons div {\n",
              "      margin-bottom: 4px;\n",
              "    }\n",
              "\n",
              "    [theme=dark] .colab-df-convert {\n",
              "      background-color: #3B4455;\n",
              "      fill: #D2E3FC;\n",
              "    }\n",
              "\n",
              "    [theme=dark] .colab-df-convert:hover {\n",
              "      background-color: #434B5C;\n",
              "      box-shadow: 0px 1px 3px 1px rgba(0, 0, 0, 0.15);\n",
              "      filter: drop-shadow(0px 1px 2px rgba(0, 0, 0, 0.3));\n",
              "      fill: #FFFFFF;\n",
              "    }\n",
              "  </style>\n",
              "\n",
              "    <script>\n",
              "      const buttonEl =\n",
              "        document.querySelector('#df-73c9e136-6ffd-4699-813e-558ed73c8e85 button.colab-df-convert');\n",
              "      buttonEl.style.display =\n",
              "        google.colab.kernel.accessAllowed ? 'block' : 'none';\n",
              "\n",
              "      async function convertToInteractive(key) {\n",
              "        const element = document.querySelector('#df-73c9e136-6ffd-4699-813e-558ed73c8e85');\n",
              "        const dataTable =\n",
              "          await google.colab.kernel.invokeFunction('convertToInteractive',\n",
              "                                                    [key], {});\n",
              "        if (!dataTable) return;\n",
              "\n",
              "        const docLinkHtml = 'Like what you see? Visit the ' +\n",
              "          '<a target=\"_blank\" href=https://colab.research.google.com/notebooks/data_table.ipynb>data table notebook</a>'\n",
              "          + ' to learn more about interactive tables.';\n",
              "        element.innerHTML = '';\n",
              "        dataTable['output_type'] = 'display_data';\n",
              "        await google.colab.output.renderOutput(dataTable, element);\n",
              "        const docLink = document.createElement('div');\n",
              "        docLink.innerHTML = docLinkHtml;\n",
              "        element.appendChild(docLink);\n",
              "      }\n",
              "    </script>\n",
              "  </div>\n",
              "\n",
              "\n",
              "<div id=\"df-c62cb428-d52a-4ed3-8704-6bfae4a51074\">\n",
              "  <button class=\"colab-df-quickchart\" onclick=\"quickchart('df-c62cb428-d52a-4ed3-8704-6bfae4a51074')\"\n",
              "            title=\"Suggest charts\"\n",
              "            style=\"display:none;\">\n",
              "\n",
              "<svg xmlns=\"http://www.w3.org/2000/svg\" height=\"24px\"viewBox=\"0 0 24 24\"\n",
              "     width=\"24px\">\n",
              "    <g>\n",
              "        <path d=\"M19 3H5c-1.1 0-2 .9-2 2v14c0 1.1.9 2 2 2h14c1.1 0 2-.9 2-2V5c0-1.1-.9-2-2-2zM9 17H7v-7h2v7zm4 0h-2V7h2v10zm4 0h-2v-4h2v4z\"/>\n",
              "    </g>\n",
              "</svg>\n",
              "  </button>\n",
              "\n",
              "<style>\n",
              "  .colab-df-quickchart {\n",
              "      --bg-color: #E8F0FE;\n",
              "      --fill-color: #1967D2;\n",
              "      --hover-bg-color: #E2EBFA;\n",
              "      --hover-fill-color: #174EA6;\n",
              "      --disabled-fill-color: #AAA;\n",
              "      --disabled-bg-color: #DDD;\n",
              "  }\n",
              "\n",
              "  [theme=dark] .colab-df-quickchart {\n",
              "      --bg-color: #3B4455;\n",
              "      --fill-color: #D2E3FC;\n",
              "      --hover-bg-color: #434B5C;\n",
              "      --hover-fill-color: #FFFFFF;\n",
              "      --disabled-bg-color: #3B4455;\n",
              "      --disabled-fill-color: #666;\n",
              "  }\n",
              "\n",
              "  .colab-df-quickchart {\n",
              "    background-color: var(--bg-color);\n",
              "    border: none;\n",
              "    border-radius: 50%;\n",
              "    cursor: pointer;\n",
              "    display: none;\n",
              "    fill: var(--fill-color);\n",
              "    height: 32px;\n",
              "    padding: 0;\n",
              "    width: 32px;\n",
              "  }\n",
              "\n",
              "  .colab-df-quickchart:hover {\n",
              "    background-color: var(--hover-bg-color);\n",
              "    box-shadow: 0 1px 2px rgba(60, 64, 67, 0.3), 0 1px 3px 1px rgba(60, 64, 67, 0.15);\n",
              "    fill: var(--button-hover-fill-color);\n",
              "  }\n",
              "\n",
              "  .colab-df-quickchart-complete:disabled,\n",
              "  .colab-df-quickchart-complete:disabled:hover {\n",
              "    background-color: var(--disabled-bg-color);\n",
              "    fill: var(--disabled-fill-color);\n",
              "    box-shadow: none;\n",
              "  }\n",
              "\n",
              "  .colab-df-spinner {\n",
              "    border: 2px solid var(--fill-color);\n",
              "    border-color: transparent;\n",
              "    border-bottom-color: var(--fill-color);\n",
              "    animation:\n",
              "      spin 1s steps(1) infinite;\n",
              "  }\n",
              "\n",
              "  @keyframes spin {\n",
              "    0% {\n",
              "      border-color: transparent;\n",
              "      border-bottom-color: var(--fill-color);\n",
              "      border-left-color: var(--fill-color);\n",
              "    }\n",
              "    20% {\n",
              "      border-color: transparent;\n",
              "      border-left-color: var(--fill-color);\n",
              "      border-top-color: var(--fill-color);\n",
              "    }\n",
              "    30% {\n",
              "      border-color: transparent;\n",
              "      border-left-color: var(--fill-color);\n",
              "      border-top-color: var(--fill-color);\n",
              "      border-right-color: var(--fill-color);\n",
              "    }\n",
              "    40% {\n",
              "      border-color: transparent;\n",
              "      border-right-color: var(--fill-color);\n",
              "      border-top-color: var(--fill-color);\n",
              "    }\n",
              "    60% {\n",
              "      border-color: transparent;\n",
              "      border-right-color: var(--fill-color);\n",
              "    }\n",
              "    80% {\n",
              "      border-color: transparent;\n",
              "      border-right-color: var(--fill-color);\n",
              "      border-bottom-color: var(--fill-color);\n",
              "    }\n",
              "    90% {\n",
              "      border-color: transparent;\n",
              "      border-bottom-color: var(--fill-color);\n",
              "    }\n",
              "  }\n",
              "</style>\n",
              "\n",
              "  <script>\n",
              "    async function quickchart(key) {\n",
              "      const quickchartButtonEl =\n",
              "        document.querySelector('#' + key + ' button');\n",
              "      quickchartButtonEl.disabled = true;  // To prevent multiple clicks.\n",
              "      quickchartButtonEl.classList.add('colab-df-spinner');\n",
              "      try {\n",
              "        const charts = await google.colab.kernel.invokeFunction(\n",
              "            'suggestCharts', [key], {});\n",
              "      } catch (error) {\n",
              "        console.error('Error during call to suggestCharts:', error);\n",
              "      }\n",
              "      quickchartButtonEl.classList.remove('colab-df-spinner');\n",
              "      quickchartButtonEl.classList.add('colab-df-quickchart-complete');\n",
              "    }\n",
              "    (() => {\n",
              "      let quickchartButtonEl =\n",
              "        document.querySelector('#df-c62cb428-d52a-4ed3-8704-6bfae4a51074 button');\n",
              "      quickchartButtonEl.style.display =\n",
              "        google.colab.kernel.accessAllowed ? 'block' : 'none';\n",
              "    })();\n",
              "  </script>\n",
              "</div>\n",
              "\n",
              "    </div>\n",
              "  </div>\n"
            ],
            "application/vnd.google.colaboratory.intrinsic+json": {
              "type": "dataframe",
              "summary": "{\n  \"name\": \"pd\",\n  \"rows\": 19,\n  \"fields\": [\n    {\n      \"column\": \"P (MPa)\",\n      \"properties\": {\n        \"dtype\": \"number\",\n        \"std\": 0.028136571693556888,\n        \"min\": 0.01,\n        \"max\": 0.1,\n        \"num_unique_values\": 19,\n        \"samples\": [\n          0.01,\n          0.035,\n          0.065\n        ],\n        \"semantic_type\": \"\",\n        \"description\": \"\"\n      }\n    },\n    {\n      \"column\": \"v (m3/kg)\",\n      \"properties\": {\n        \"dtype\": \"number\",\n        \"std\": 3.9857036652119966,\n        \"min\": 1.6959594073982218,\n        \"max\": 17.196724629921768,\n        \"num_unique_values\": 19,\n        \"samples\": [\n          17.196724629921768,\n          4.895117121262879,\n          2.6237453422338803\n        ],\n        \"semantic_type\": \"\",\n        \"description\": \"\"\n      }\n    },\n    {\n      \"column\": \"fases\",\n      \"properties\": {\n        \"dtype\": \"category\",\n        \"num_unique_values\": 1,\n        \"samples\": [\n          \"Vapour\"\n        ],\n        \"semantic_type\": \"\",\n        \"description\": \"\"\n      }\n    }\n  ]\n}"
            }
          },
          "metadata": {},
          "execution_count": 12
        }
      ],
      "source": [
        "# Representación tabular\n",
        "isoterma_T1 = {\n",
        "    'P (MPa)': presiones,\n",
        "    'v (m3/kg)': volumenes_T1,\n",
        "    'fases': fases_T1,\n",
        "    }\n",
        "pd.DataFrame(isoterma_T1)"
      ]
    },
    {
      "cell_type": "markdown",
      "metadata": {
        "id": "vvPERi7HKwTx"
      },
      "source": [
        "Puede comprobarse que los resultados son idénticos a la celda 10."
      ]
    },
    {
      "cell_type": "markdown",
      "metadata": {
        "id": "wD3N4qztTEr2"
      },
      "source": [
        "## Librería `Matplotlib`\n",
        "\n",
        "`Matplotlib` es una librería de visualización en Python que permite crear gráficos de alta calidad, como diagramas de dispersión, histogramas, gráficos de barras y más. Se ha vuelto una herramienta esencial para representar y comunicar datos de manera efectiva.\n",
        "\n",
        "A continuación, procedemos a importar la librería y configurarla para el ambiente de trabajo:"
      ]
    },
    {
      "cell_type": "code",
      "execution_count": 13,
      "metadata": {
        "id": "fhk6gr45-z4T"
      },
      "outputs": [],
      "source": [
        "%matplotlib inline\n",
        "import matplotlib.pyplot as plt"
      ]
    },
    {
      "cell_type": "code",
      "execution_count": 14,
      "metadata": {
        "colab": {
          "base_uri": "https://localhost:8080/",
          "height": 472
        },
        "id": "nM_LBN6mGuWM",
        "outputId": "a96872e5-4404-424b-c485-5ad99ea66169"
      },
      "outputs": [
        {
          "output_type": "display_data",
          "data": {
            "text/plain": [
              "<Figure size 640x480 with 1 Axes>"
            ],
            "image/png": "[encoded data removed]"
          },
          "metadata": {}
        }
      ],
      "source": [
        "# Graficando isoterma T1: diagrama Pv\n",
        "plt.title(\"Fig. 1. Isoterma Pv del agua\")\n",
        "plt.xlabel(\"Volumen específico (m3/kg)\")\n",
        "plt.ylabel(\"Presión (MPa)\")\n",
        "plt.plot(volumenes_T1, presiones, \"-k\", label=\"T = 373.15 K\")\n",
        "plt.grid(True) # cuadriculado\n",
        "plt.legend()\n",
        "plt.show()"
      ]
    },
    {
      "cell_type": "markdown",
      "metadata": {
        "id": "zQ2VB4rMTPsT"
      },
      "source": [
        "**Observaciones**\n",
        "- La isoterma anterior sólo cubre la región de vapor sobrecalentado.\n",
        "- Para incluir la fase líquida y la transición de equilibrio, se necesita un rango de presiones más amplio.\n",
        "- Conviene un escalado logarítmico para las presiones, tanto para los cálculos como la visualización."
      ]
    },
    {
      "cell_type": "code",
      "execution_count": 15,
      "metadata": {
        "id": "CTLiXre6jDsz"
      },
      "outputs": [],
      "source": [
        "# Cálculo de la isoterma T1 ampliada\n",
        "T1 = 373.15 # K\n",
        "n_dat = 200\n",
        "# P_min = 0.01 MPa (10^-2)  -> start = -2\n",
        "# P_max = 10.0 MPa (10^1)   -> stop = 1\n",
        "presiones = np.logspace(start=-2, stop=1, num=n_dat)\n",
        "volumenes_T1 = calc_volumenes_isoterma(T1, presiones)\n",
        "fases_T1 = id_fases_isoterma(T1, presiones)"
      ]
    },
    {
      "cell_type": "code",
      "execution_count": 16,
      "metadata": {
        "colab": {
          "base_uri": "https://localhost:8080/",
          "height": 423
        },
        "id": "OSZr88WrRr6a",
        "outputId": "0d47ff1c-c7b4-45ce-83be-cd16455e40e4"
      },
      "outputs": [
        {
          "output_type": "execute_result",
          "data": {
            "text/plain": [
              "       P (MPa)  v (m3/kg)   fases\n",
              "0     0.010000  17.196725  Vapour\n",
              "1     0.010353  16.609167  Vapour\n",
              "2     0.010719  16.041654  Vapour\n",
              "3     0.011098  15.493503  Vapour\n",
              "4     0.011490  14.964053  Vapour\n",
              "..         ...        ...     ...\n",
              "195   8.703591   0.001039  Liquid\n",
              "196   9.011018   0.001039  Liquid\n",
              "197   9.329304   0.001039  Liquid\n",
              "198   9.658832   0.001039  Liquid\n",
              "199  10.000000   0.001038  Liquid\n",
              "\n",
              "[200 rows x 3 columns]"
            ],
            "text/html": [
              "\n",
              "  <div id=\"df-8f95efa2-b650-408f-8441-328d79ec5411\" class=\"colab-df-container\">\n",
              "    <div>\n",
              "<style scoped>\n",
              "    .dataframe tbody tr th:only-of-type {\n",
              "        vertical-align: middle;\n",
              "    }\n",
              "\n",
              "    .dataframe tbody tr th {\n",
              "        vertical-align: top;\n",
              "    }\n",
              "\n",
              "    .dataframe thead th {\n",
              "        text-align: right;\n",
              "    }\n",
              "</style>\n",
              "<table border=\"1\" class=\"dataframe\">\n",
              "  <thead>\n",
              "    <tr style=\"text-align: right;\">\n",
              "      <th></th>\n",
              "      <th>P (MPa)</th>\n",
              "      <th>v (m3/kg)</th>\n",
              "      <th>fases</th>\n",
              "    </tr>\n",
              "  </thead>\n",
              "  <tbody>\n",
              "    <tr>\n",
              "      <th>0</th>\n",
              "      <td>0.010000</td>\n",
              "      <td>17.196725</td>\n",
              "      <td>Vapour</td>\n",
              "    </tr>\n",
              "    <tr>\n",
              "      <th>1</th>\n",
              "      <td>0.010353</td>\n",
              "      <td>16.609167</td>\n",
              "      <td>Vapour</td>\n",
              "    </tr>\n",
              "    <tr>\n",
              "      <th>2</th>\n",
              "      <td>0.010719</td>\n",
              "      <td>16.041654</td>\n",
              "      <td>Vapour</td>\n",
              "    </tr>\n",
              "    <tr>\n",
              "      <th>3</th>\n",
              "      <td>0.011098</td>\n",
              "      <td>15.493503</td>\n",
              "      <td>Vapour</td>\n",
              "    </tr>\n",
              "    <tr>\n",
              "      <th>4</th>\n",
              "      <td>0.011490</td>\n",
              "      <td>14.964053</td>\n",
              "      <td>Vapour</td>\n",
              "    </tr>\n",
              "    <tr>\n",
              "      <th>...</th>\n",
              "      <td>...</td>\n",
              "      <td>...</td>\n",
              "      <td>...</td>\n",
              "    </tr>\n",
              "    <tr>\n",
              "      <th>195</th>\n",
              "      <td>8.703591</td>\n",
              "      <td>0.001039</td>\n",
              "      <td>Liquid</td>\n",
              "    </tr>\n",
              "    <tr>\n",
              "      <th>196</th>\n",
              "      <td>9.011018</td>\n",
              "      <td>0.001039</td>\n",
              "      <td>Liquid</td>\n",
              "    </tr>\n",
              "    <tr>\n",
              "      <th>197</th>\n",
              "      <td>9.329304</td>\n",
              "      <td>0.001039</td>\n",
              "      <td>Liquid</td>\n",
              "    </tr>\n",
              "    <tr>\n",
              "      <th>198</th>\n",
              "      <td>9.658832</td>\n",
              "      <td>0.001039</td>\n",
              "      <td>Liquid</td>\n",
              "    </tr>\n",
              "    <tr>\n",
              "      <th>199</th>\n",
              "      <td>10.000000</td>\n",
              "      <td>0.001038</td>\n",
              "      <td>Liquid</td>\n",
              "    </tr>\n",
              "  </tbody>\n",
              "</table>\n",
              "<p>200 rows × 3 columns</p>\n",
              "</div>\n",
              "    <div class=\"colab-df-buttons\">\n",
              "\n",
              "  <div class=\"colab-df-container\">\n",
              "    <button class=\"colab-df-convert\" onclick=\"convertToInteractive('df-8f95efa2-b650-408f-8441-328d79ec5411')\"\n",
              "            title=\"Convert this dataframe to an interactive table.\"\n",
              "            style=\"display:none;\">\n",
              "\n",
              "  <svg xmlns=\"http://www.w3.org/2000/svg\" height=\"24px\" viewBox=\"0 -960 960 960\">\n",
              "    <path d=\"M120-120v-720h720v720H120Zm60-500h600v-160H180v160Zm220 220h160v-160H400v160Zm0 220h160v-160H400v160ZM180-400h160v-160H180v160Zm440 0h160v-160H620v160ZM180-180h160v-160H180v160Zm440 0h160v-160H620v160Z\"/>\n",
              "  </svg>\n",
              "    </button>\n",
              "\n",
              "  <style>\n",
              "    .colab-df-container {\n",
              "      display:flex;\n",
              "      gap: 12px;\n",
              "    }\n",
              "\n",
              "    .colab-df-convert {\n",
              "      background-color: #E8F0FE;\n",
              "      border: none;\n",
              "      border-radius: 50%;\n",
              "      cursor: pointer;\n",
              "      display: none;\n",
              "      fill: #1967D2;\n",
              "      height: 32px;\n",
              "      padding: 0 0 0 0;\n",
              "      width: 32px;\n",
              "    }\n",
              "\n",
              "    .colab-df-convert:hover {\n",
              "      background-color: #E2EBFA;\n",
              "      box-shadow: 0px 1px 2px rgba(60, 64, 67, 0.3), 0px 1px 3px 1px rgba(60, 64, 67, 0.15);\n",
              "      fill: #174EA6;\n",
              "    }\n",
              "\n",
              "    .colab-df-buttons div {\n",
              "      margin-bottom: 4px;\n",
              "    }\n",
              "\n",
              "    [theme=dark] .colab-df-convert {\n",
              "      background-color: #3B4455;\n",
              "      fill: #D2E3FC;\n",
              "    }\n",
              "\n",
              "    [theme=dark] .colab-df-convert:hover {\n",
              "      background-color: #434B5C;\n",
              "      box-shadow: 0px 1px 3px 1px rgba(0, 0, 0, 0.15);\n",
              "      filter: drop-shadow(0px 1px 2px rgba(0, 0, 0, 0.3));\n",
              "      fill: #FFFFFF;\n",
              "    }\n",
              "  </style>\n",
              "\n",
              "    <script>\n",
              "      const buttonEl =\n",
              "        document.querySelector('#df-8f95efa2-b650-408f-8441-328d79ec5411 button.colab-df-convert');\n",
              "      buttonEl.style.display =\n",
              "        google.colab.kernel.accessAllowed ? 'block' : 'none';\n",
              "\n",
              "      async function convertToInteractive(key) {\n",
              "        const element = document.querySelector('#df-8f95efa2-b650-408f-8441-328d79ec5411');\n",
              "        const dataTable =\n",
              "          await google.colab.kernel.invokeFunction('convertToInteractive',\n",
              "                                                    [key], {});\n",
              "        if (!dataTable) return;\n",
              "\n",
              "        const docLinkHtml = 'Like what you see? Visit the ' +\n",
              "          '<a target=\"_blank\" href=https://colab.research.google.com/notebooks/data_table.ipynb>data table notebook</a>'\n",
              "          + ' to learn more about interactive tables.';\n",
              "        element.innerHTML = '';\n",
              "        dataTable['output_type'] = 'display_data';\n",
              "        await google.colab.output.renderOutput(dataTable, element);\n",
              "        const docLink = document.createElement('div');\n",
              "        docLink.innerHTML = docLinkHtml;\n",
              "        element.appendChild(docLink);\n",
              "      }\n",
              "    </script>\n",
              "  </div>\n",
              "\n",
              "\n",
              "<div id=\"df-d2004a62-0b9f-470d-8244-8ba73901e99a\">\n",
              "  <button class=\"colab-df-quickchart\" onclick=\"quickchart('df-d2004a62-0b9f-470d-8244-8ba73901e99a')\"\n",
              "            title=\"Suggest charts\"\n",
              "            style=\"display:none;\">\n",
              "\n",
              "<svg xmlns=\"http://www.w3.org/2000/svg\" height=\"24px\"viewBox=\"0 0 24 24\"\n",
              "     width=\"24px\">\n",
              "    <g>\n",
              "        <path d=\"M19 3H5c-1.1 0-2 .9-2 2v14c0 1.1.9 2 2 2h14c1.1 0 2-.9 2-2V5c0-1.1-.9-2-2-2zM9 17H7v-7h2v7zm4 0h-2V7h2v10zm4 0h-2v-4h2v4z\"/>\n",
              "    </g>\n",
              "</svg>\n",
              "  </button>\n",
              "\n",
              "<style>\n",
              "  .colab-df-quickchart {\n",
              "      --bg-color: #E8F0FE;\n",
              "      --fill-color: #1967D2;\n",
              "      --hover-bg-color: #E2EBFA;\n",
              "      --hover-fill-color: #174EA6;\n",
              "      --disabled-fill-color: #AAA;\n",
              "      --disabled-bg-color: #DDD;\n",
              "  }\n",
              "\n",
              "  [theme=dark] .colab-df-quickchart {\n",
              "      --bg-color: #3B4455;\n",
              "      --fill-color: #D2E3FC;\n",
              "      --hover-bg-color: #434B5C;\n",
              "      --hover-fill-color: #FFFFFF;\n",
              "      --disabled-bg-color: #3B4455;\n",
              "      --disabled-fill-color: #666;\n",
              "  }\n",
              "\n",
              "  .colab-df-quickchart {\n",
              "    background-color: var(--bg-color);\n",
              "    border: none;\n",
              "    border-radius: 50%;\n",
              "    cursor: pointer;\n",
              "    display: none;\n",
              "    fill: var(--fill-color);\n",
              "    height: 32px;\n",
              "    padding: 0;\n",
              "    width: 32px;\n",
              "  }\n",
              "\n",
              "  .colab-df-quickchart:hover {\n",
              "    background-color: var(--hover-bg-color);\n",
              "    box-shadow: 0 1px 2px rgba(60, 64, 67, 0.3), 0 1px 3px 1px rgba(60, 64, 67, 0.15);\n",
              "    fill: var(--button-hover-fill-color);\n",
              "  }\n",
              "\n",
              "  .colab-df-quickchart-complete:disabled,\n",
              "  .colab-df-quickchart-complete:disabled:hover {\n",
              "    background-color: var(--disabled-bg-color);\n",
              "    fill: var(--disabled-fill-color);\n",
              "    box-shadow: none;\n",
              "  }\n",
              "\n",
              "  .colab-df-spinner {\n",
              "    border: 2px solid var(--fill-color);\n",
              "    border-color: transparent;\n",
              "    border-bottom-color: var(--fill-color);\n",
              "    animation:\n",
              "      spin 1s steps(1) infinite;\n",
              "  }\n",
              "\n",
              "  @keyframes spin {\n",
              "    0% {\n",
              "      border-color: transparent;\n",
              "      border-bottom-color: var(--fill-color);\n",
              "      border-left-color: var(--fill-color);\n",
              "    }\n",
              "    20% {\n",
              "      border-color: transparent;\n",
              "      border-left-color: var(--fill-color);\n",
              "      border-top-color: var(--fill-color);\n",
              "    }\n",
              "    30% {\n",
              "      border-color: transparent;\n",
              "      border-left-color: var(--fill-color);\n",
              "      border-top-color: var(--fill-color);\n",
              "      border-right-color: var(--fill-color);\n",
              "    }\n",
              "    40% {\n",
              "      border-color: transparent;\n",
              "      border-right-color: var(--fill-color);\n",
              "      border-top-color: var(--fill-color);\n",
              "    }\n",
              "    60% {\n",
              "      border-color: transparent;\n",
              "      border-right-color: var(--fill-color);\n",
              "    }\n",
              "    80% {\n",
              "      border-color: transparent;\n",
              "      border-right-color: var(--fill-color);\n",
              "      border-bottom-color: var(--fill-color);\n",
              "    }\n",
              "    90% {\n",
              "      border-color: transparent;\n",
              "      border-bottom-color: var(--fill-color);\n",
              "    }\n",
              "  }\n",
              "</style>\n",
              "\n",
              "  <script>\n",
              "    async function quickchart(key) {\n",
              "      const quickchartButtonEl =\n",
              "        document.querySelector('#' + key + ' button');\n",
              "      quickchartButtonEl.disabled = true;  // To prevent multiple clicks.\n",
              "      quickchartButtonEl.classList.add('colab-df-spinner');\n",
              "      try {\n",
              "        const charts = await google.colab.kernel.invokeFunction(\n",
              "            'suggestCharts', [key], {});\n",
              "      } catch (error) {\n",
              "        console.error('Error during call to suggestCharts:', error);\n",
              "      }\n",
              "      quickchartButtonEl.classList.remove('colab-df-spinner');\n",
              "      quickchartButtonEl.classList.add('colab-df-quickchart-complete');\n",
              "    }\n",
              "    (() => {\n",
              "      let quickchartButtonEl =\n",
              "        document.querySelector('#df-d2004a62-0b9f-470d-8244-8ba73901e99a button');\n",
              "      quickchartButtonEl.style.display =\n",
              "        google.colab.kernel.accessAllowed ? 'block' : 'none';\n",
              "    })();\n",
              "  </script>\n",
              "</div>\n",
              "\n",
              "    </div>\n",
              "  </div>\n"
            ],
            "application/vnd.google.colaboratory.intrinsic+json": {
              "type": "dataframe",
              "summary": "{\n  \"name\": \"pd\",\n  \"rows\": 200,\n  \"fields\": [\n    {\n      \"column\": \"P (MPa)\",\n      \"properties\": {\n        \"dtype\": \"number\",\n        \"std\": 2.3103943268489906,\n        \"min\": 0.01,\n        \"max\": 10.0,\n        \"num_unique_values\": 200,\n        \"samples\": [\n          0.27049597304631345,\n          0.016831803533309566,\n          0.02833096101839324\n        ],\n        \"semantic_type\": \"\",\n        \"description\": \"\"\n      }\n    },\n    {\n      \"column\": \"v (m3/kg)\",\n      \"properties\": {\n        \"dtype\": \"number\",\n        \"std\": 4.088717470642451,\n        \"min\": 0.0010384953508574513,\n        \"max\": 17.196724629921768,\n        \"num_unique_values\": 200,\n        \"samples\": [\n          0.0010433691830454585,\n          10.206530333630043,\n          6.053475266451763\n        ],\n        \"semantic_type\": \"\",\n        \"description\": \"\"\n      }\n    },\n    {\n      \"column\": \"fases\",\n      \"properties\": {\n        \"dtype\": \"category\",\n        \"num_unique_values\": 2,\n        \"samples\": [\n          \"Liquid\",\n          \"Vapour\"\n        ],\n        \"semantic_type\": \"\",\n        \"description\": \"\"\n      }\n    }\n  ]\n}"
            }
          },
          "metadata": {},
          "execution_count": 16
        }
      ],
      "source": [
        "# Isoterma T1 ampliada: representación (tabla)\n",
        "isoterma_T1 = {\n",
        "    'P (MPa)': presiones,\n",
        "    'v (m3/kg)': volumenes_T1,\n",
        "    'fases': fases_T1,\n",
        "    }\n",
        "pd.DataFrame(isoterma_T1)"
      ]
    },
    {
      "cell_type": "markdown",
      "metadata": {
        "id": "ikCnFl1RR255"
      },
      "source": [
        "Analizando los resultados, podemos concluir que:\n",
        "\n",
        "* Bajas presiones → fase vapor\n",
        "* Altas presiones → fase líquida\n",
        "* Fase vapor: el volumen es decreciente con la presión\n",
        "* Fase líquida: el volumen se mantiene casi constante\n",
        "* El volumen de la fase vapor puede ser hasta casi 20 mil veces mayor que la fase líquida (por ejemplo: 17.196 vs 0.001 m3/kg)\n",
        "* Podría aplicarse luego un escalado logarítmico también al eje de volumen"
      ]
    },
    {
      "cell_type": "markdown",
      "metadata": {
        "id": "o9H-Z3nLZJPs"
      },
      "source": [
        "Como graficaremos diferentes versiones del diagrama Pv, conviene definir una función que sirva como \"plantilla\" básica:"
      ]
    },
    {
      "cell_type": "code",
      "execution_count": 17,
      "metadata": {
        "id": "DvfjCu48ahaa"
      },
      "outputs": [],
      "source": [
        "def config_diagrama_Pv(titulo: str):\n",
        "    plt.title(titulo)\n",
        "    plt.xlabel(\"Volumen específico (m3/kg)\")\n",
        "    plt.ylabel(\"Presión (MPa)\")\n",
        "    plt.grid(True)"
      ]
    },
    {
      "cell_type": "code",
      "execution_count": 18,
      "metadata": {
        "colab": {
          "base_uri": "https://localhost:8080/",
          "height": 472
        },
        "id": "I_mQLKzPw5PS",
        "outputId": "09331e8f-c788-449d-c79e-5b39631c5903"
      },
      "outputs": [
        {
          "output_type": "display_data",
          "data": {
            "text/plain": [
              "<Figure size 640x480 with 1 Axes>"
            ],
            "image/png": "[encoded data removed]"
          },
          "metadata": {}
        }
      ],
      "source": [
        "# Graficando isoterma T1 ampliada: diagrama Pv (semi-log)\n",
        "titulo_fig_2 = \"Fig. 2. Isoterma Pv del agua: escala semi-log\"\n",
        "config_diagrama_Pv(titulo_fig_2)\n",
        "plt.plot(volumenes_T1, presiones, \"-k\", label=\"T = 373.15 K\")\n",
        "# Escalado log: eje vertical (P)\n",
        "plt.yscale(\"log\")\n",
        "# Configurando anotaciones\n",
        "estilo_anotacion = {\n",
        "    \"fontsize\": 8,\n",
        "    \"fontweight\": \"semibold\",\n",
        "    \"arrowprops\": dict(linewidth=2, arrowstyle=\"->\")\n",
        "    }\n",
        "plt.annotate(\"Liquido\",\n",
        "             xy=(0, 1), xytext=(1.5, 1),\n",
        "             color=\"blue\", **estilo_anotacion)\n",
        "plt.annotate(\"Equilibrio\",\n",
        "             xy=(1, 0.1), xytext=(0, 0.05),\n",
        "             color=\"magenta\", **estilo_anotacion)\n",
        "plt.annotate(\"Vapor\",\n",
        "             xy=(7.5, 0.025), xytext=(8.5, 0.03),\n",
        "             color=\"red\", **estilo_anotacion)\n",
        "# Mostrar gráfico\n",
        "plt.legend()\n",
        "plt.show()"
      ]
    },
    {
      "cell_type": "markdown",
      "metadata": {
        "id": "_JNreqAaQkdU"
      },
      "source": [
        "- P > 0.1 MPa --> Fase líquida\n",
        "- P = 0.1 MPa --> Equilibrio líquido-vapor\n",
        "- P < 0.1 MPa --> Fase vapor"
      ]
    },
    {
      "cell_type": "code",
      "execution_count": 19,
      "metadata": {
        "colab": {
          "base_uri": "https://localhost:8080/",
          "height": 477
        },
        "id": "Ub5uCMWIwxOE",
        "outputId": "58f5cbf3-3fff-4211-de8c-55706ff4a7b9"
      },
      "outputs": [
        {
          "output_type": "display_data",
          "data": {
            "text/plain": [
              "<Figure size 640x480 with 1 Axes>"
            ],
            "image/png": "[encoded data removed]"
          },
          "metadata": {}
        }
      ],
      "source": [
        "# Graficando isoterma T1 ampliada: diagrama Pv (escala log-log)\n",
        "titulo_fig_3 = \"Fig. 3. Isoterma Pv del agua: escala log-log\"\n",
        "config_diagrama_Pv(titulo_fig_3)\n",
        "plt.plot(volumenes_T1, presiones, \"-k\", label=\"T = 373.15 K\")\n",
        "plt.xscale(\"log\") # eje v\n",
        "plt.yscale(\"log\") # eje P\n",
        "plt.annotate(\"Liquido\",\n",
        "             xy=(0.001, 1), xytext=(0.003, 1),\n",
        "             color=\"blue\", **estilo_anotacion)\n",
        "plt.annotate(\"Equilibrio\",\n",
        "             xy=(0.1, 0.1), xytext=(0.02, 0.05),\n",
        "             color=\"magenta\", **estilo_anotacion)\n",
        "plt.annotate(\"Vapor\",\n",
        "             xy=(7.5, 0.025), xytext=(12, 0.05),\n",
        "             color=\"red\", **estilo_anotacion)\n",
        "# Mostrar gráfico\n",
        "plt.legend()\n",
        "plt.show()"
      ]
    },
    {
      "cell_type": "markdown",
      "metadata": {
        "id": "JCXCMttJsAz2"
      },
      "source": [
        "Ahora se puede apreciar con más detalle la región de equilibrio líquido - vapor.\n",
        "\n",
        "Nótese que, debido a la transformación logarítmica aplicada al volumen, la línea de vapor sobrecalentado se ve ahora como una recta (en lugar de una curva cóncava hacia arriba)."
      ]
    },
    {
      "cell_type": "markdown",
      "metadata": {
        "id": "GKYgXX5aUtr7"
      },
      "source": [
        "## Cálculo de isotermas\n",
        "\n",
        "Hasta ahora, hemos visto cómo calcular 1 isoterma Pv y luego representarla, tanto en forma de tabla como gráficamente. Ahora, vamos a calcular más isotermas y ampliar aún más el rango de presiones, para construir finalmente un diagrama PvT extendido.\n",
        "\n",
        "Es importante tener en cuenta las temperaturas del punto triple y del punto crítico, ya que delimitan regiones de fases en el diagrama.\n",
        "\n",
        "Se elegirán las siguientes isotermas:\n",
        "- T = 275 K (isoterma subcrítica; próxima al punto triple)\n",
        "- T = 450 K (isoterma subcrítica; valor intermedio)\n",
        "- T = 647 K (isoterma crítica)\n",
        "- T = 800 K (isoterma supercrítica)"
      ]
    },
    {
      "cell_type": "code",
      "execution_count": 20,
      "metadata": {
        "id": "zVbtGBpin0YY"
      },
      "outputs": [],
      "source": [
        "temperaturas = [275, 450, 647.096, 800]\n",
        "# Pmin = 0.001 MPa (10^-3)\n",
        "# Pmax = 100 MPa (10^2)\n",
        "presiones = np.logspace(start=-3.21, stop=2, num=500)\n",
        "volumenes = {T: calc_volumenes_isoterma(T, presiones) for T in temperaturas}"
      ]
    },
    {
      "cell_type": "markdown",
      "metadata": {
        "id": "MgmVZKyyUdNZ"
      },
      "source": [
        "## Cálculos de equilibrio líquido - vapor\n",
        "\n",
        "El cálculo de las líneas de saturación (equilibrio líquido-vapor) es importante, ya que éstas delimitan las regiones de cada fase en el diagrama Pv.\n",
        "\n",
        "A continuación, se definen las funciones necesarias para calcular $v_L^{sat}$, $v_G^{sat}$ y $P^{sat}$ en función de la temperatura:"
      ]
    },
    {
      "cell_type": "code",
      "execution_count": 21,
      "metadata": {
        "id": "n0beBwbP6Ez3"
      },
      "outputs": [],
      "source": [
        "def calc_v_sat_Tx(T_sat: float, x: float) -> float:\n",
        "    \"\"\"Calcula el volumen específico `v` (m3/kg) del agua\n",
        "    a la temperatura de saturación 'T_sat' (K) y fracción de vapor\n",
        "    'x' especificadas\"\"\"\n",
        "    estado_sat = IAPWS97(T=T_sat, x=x)\n",
        "    return estado_sat.v\n",
        "\n",
        "calc_volumenes_sat_Tx = np.vectorize(calc_v_sat_Tx)"
      ]
    },
    {
      "cell_type": "code",
      "execution_count": 22,
      "metadata": {
        "id": "g9K_gTdR8Ub7"
      },
      "outputs": [],
      "source": [
        "def calc_P_sat(T: float) -> float:\n",
        "    \"\"\"Calcula la presión de saturación `P_sat` (MPa) del agua\n",
        "    a la temperatura especificada `T` (K)\"\"\"\n",
        "    estado_sat = IAPWS97(T=T, x=0)\n",
        "    return estado_sat.P\n",
        "\n",
        "calc_presiones_sat = np.vectorize(calc_P_sat)"
      ]
    },
    {
      "cell_type": "markdown",
      "metadata": {
        "id": "7pHB0BB0f7Ib"
      },
      "source": [
        "El equilibrio líquido-vapor sólo es posible si $T_{triple} \\le T \\le T_{crit}$; por tanto, conviene calcular primero ambos puntos para representarlos también."
      ]
    },
    {
      "cell_type": "code",
      "execution_count": 23,
      "metadata": {
        "id": "dAMltWeGfwx_"
      },
      "outputs": [],
      "source": [
        "# Cálculo de punto crítico\n",
        "T_crit = 647.096    # K\n",
        "P_crit = calc_P_sat(T=T_crit)\n",
        "v_crit = calc_v_sat_Tx(T_sat=T_crit, x=0)\n",
        "# Cálculo de punto triple\n",
        "T_triple = 273.16   # K\n",
        "P_triple = calc_P_sat(T=T_triple)\n",
        "vL_triple = calc_v_sat_Tx(T_sat=T_triple, x=0)\n",
        "vG_triple = calc_v_sat_Tx(T_sat=T_triple, x=1)"
      ]
    },
    {
      "cell_type": "code",
      "execution_count": 24,
      "metadata": {
        "id": "Haxul4C4Mgqc"
      },
      "outputs": [],
      "source": [
        "# Cálculo de líneas de saturación\n",
        "T_sat_data = np.linspace(T_triple, T_crit, 300)\n",
        "P_sat_data = calc_presiones_sat(T_sat_data)\n",
        "vL_sat_data = calc_volumenes_sat_Tx(T_sat_data, x=0)\n",
        "vG_sat_data = calc_volumenes_sat_Tx(T_sat_data, x=1)"
      ]
    },
    {
      "cell_type": "markdown",
      "metadata": {
        "id": "-KUgFDv-bscd"
      },
      "source": [
        "## Diagrama Pv\n",
        "\n",
        "Finalmente, tenemos la data necesaria para representar el diagrama Pv del agua en un amplio rango de condiciones.\n",
        "\n",
        "A continuación, se muestra cómo construir el gráfico:"
      ]
    },
    {
      "cell_type": "code",
      "execution_count": 25,
      "metadata": {
        "colab": {
          "base_uri": "https://localhost:8080/",
          "height": 477
        },
        "id": "VDG9_vALivKs",
        "outputId": "2b1d7460-3841-4faa-cb40-74c58b08f94d"
      },
      "outputs": [
        {
          "output_type": "display_data",
          "data": {
            "text/plain": [
              "<Figure size 640x480 with 1 Axes>"
            ],
            "image/png": "[encoded data removed]"
          },
          "metadata": {}
        }
      ],
      "source": [
        "titulo_fig_4 = \"Fig. 4. Diagrama Pv del agua: escala log-log\"\n",
        "config_diagrama_Pv(titulo_fig_4)\n",
        "# Graficando isotermas\n",
        "colores_isotermas = [\"magenta\", \"tomato\", \"black\", \"green\"]\n",
        "for T, color in zip(temperaturas, colores_isotermas):\n",
        "    plt.plot(\n",
        "        volumenes[T],\n",
        "        presiones,\n",
        "        label=f\"{T = :.0f} K\",\n",
        "        linewidth=0.75,\n",
        "        linestyle=\"dashed\",\n",
        "        color=color\n",
        "        )\n",
        "# Graficando curvas de saturación\n",
        "plt.plot(\n",
        "    vL_sat_data, P_sat_data,\n",
        "    \"b\", label='Líq. sat.', linewidth=1)\n",
        "plt.plot(\n",
        "    vG_sat_data, P_sat_data,\n",
        "    \"r\", label='Vap. sat.', linewidth=1)\n",
        "# Graficando punto crítico\n",
        "plt.plot(v_crit, P_crit,\n",
        "         \"ok\", label='Punto crítico')\n",
        "# Graficando punto triple\n",
        "plt.plot(vL_triple, P_triple,\n",
        "         \"^b\", label='Punto triple (líq.)')\n",
        "plt.plot(vG_triple, P_triple,\n",
        "         \"^r\", label='Punto triple (vap.)')\n",
        "# Escalado log-log\n",
        "plt.xscale(\"log\")\n",
        "plt.yscale(\"log\")\n",
        "# Mostrar gráfico\n",
        "plt.legend()\n",
        "plt.show()"
      ]
    },
    {
      "cell_type": "markdown",
      "metadata": {
        "id": "I7N_wFB8IG6v"
      },
      "source": [
        "## Diagrama PT\n",
        "\n",
        "Otra representación gráfica de interés es el **diagrama presión - temperatura**, también conocido como **diagrama de fases**. Como ya calculamos las líneas de saturación, podemos representar ahora sus coordenadas `(P, T)` en lugar de `(P, v)`. Aunque se pierde la información del volumen, se gana una mejor comprensión del comportamiento de fases.\n",
        "\n",
        "Típicamente, se utilizan 3 versiones de este diagrama: P vs T, log P vs T y log P vs 1/T.\n",
        "\n",
        "A continuación, definimos primero una función que podamos reutilizar para cada caso:"
      ]
    },
    {
      "cell_type": "code",
      "execution_count": 26,
      "metadata": {
        "id": "rGKJStkaVbr2"
      },
      "outputs": [],
      "source": [
        "def graficar_diagrama_PT(\n",
        "        P_data: np.ndarray,\n",
        "        T_data: np.ndarray,\n",
        "        titulo: str,\n",
        "        horiz_tag: str = \"T (K)\",\n",
        "        coord_liq: tuple[float, float] = (400, 2.5),\n",
        "        coord_vap: tuple[float, float] = (550, 2.5),\n",
        "        ):\n",
        "    \"\"\"Grafica un diagrama PT del agua en función de la línea de vaporización\n",
        "    Args:\n",
        "        P_dat (np.ndarray): arreglo con los valores de Psat (MPa)\n",
        "        T_dat (np.ndarray): arreglo con los valores de T (K) ó 1/T (1/K)\n",
        "        titulo (str): título de la figura\n",
        "        horiz_tag (str): etiqueta del eje horizontal\n",
        "        coord_liq (tuple[float, float]): coordenadas para etiquetar\n",
        "            la fase líquida\n",
        "        coord_liq (tuple[float, float]): coordenadas para etiquetar\n",
        "            la fase líquida\n",
        "    \"\"\"\n",
        "    plt.plot(T_data, P_data, \"k\", label=\"Curva de vaporización\")\n",
        "    plt.title(titulo)\n",
        "    fuente = {\"fontsize\": 12, \"fontweight\": \"semibold\",}\n",
        "    plt.xlabel(horiz_tag, **fuente)\n",
        "    plt.ylabel(\"P (MPa)\", **fuente)\n",
        "    plt.annotate(\"Líquido\", xy=coord_liq, color=\"blue\", **fuente)\n",
        "    plt.annotate(\"Vapor\", xy=coord_vap, color=\"red\", **fuente)\n",
        "    plt.grid(True)"
      ]
    },
    {
      "cell_type": "code",
      "execution_count": 27,
      "metadata": {
        "colab": {
          "base_uri": "https://localhost:8080/",
          "height": 476
        },
        "id": "-v7uwmsyWBGW",
        "outputId": "ded62d2b-bbac-42fd-cd04-f21ef101412a"
      },
      "outputs": [
        {
          "output_type": "display_data",
          "data": {
            "text/plain": [
              "<Figure size 640x480 with 1 Axes>"
            ],
            "image/png": "[encoded data removed]"
          },
          "metadata": {}
        }
      ],
      "source": [
        "titulo_fig_5 = \"Fig. 5. Diagrama P-T del agua\"\n",
        "graficar_diagrama_PT(P_sat_data, T_sat_data, titulo_fig_5)\n",
        "plt.plot(T_triple, P_triple, '^k', label='Punto triple')\n",
        "plt.plot(T_crit, P_crit, 'ok', label='Punto crítico')\n",
        "plt.xlim(240, 660)\n",
        "plt.legend()\n",
        "plt.show()"
      ]
    },
    {
      "cell_type": "markdown",
      "metadata": {
        "id": "hJ_rPjxmmjsw"
      },
      "source": [
        "Como se puede apreciar, la región a la izquierda de la curva de vaporización corresponde a la fase líquida, mientras que la región a la derecha representa la fase vapor. Nótese que la curva de vaporización inicia en el punto triple y termina en el punto crítico, como se había indicado previamente.\n",
        "\n",
        "Una desventaja de la escala lineal de $P$ es que no podemos leer con precisión la región de bajas temperaturas (por ejemplo, T < 400 K). A continuación, graficaremos una representación semilogarítmica:"
      ]
    },
    {
      "cell_type": "code",
      "execution_count": 28,
      "metadata": {
        "colab": {
          "base_uri": "https://localhost:8080/",
          "height": 476
        },
        "id": "hfbfHpuwYzmn",
        "outputId": "44d2c4b9-c83c-482a-9abb-fa369bf43ee8"
      },
      "outputs": [
        {
          "output_type": "display_data",
          "data": {
            "text/plain": [
              "<Figure size 640x480 with 1 Axes>"
            ],
            "image/png": "[encoded data removed]"
          },
          "metadata": {}
        }
      ],
      "source": [
        "titulo_fig_6 = \"Fig. 6. Diagrama P-T del agua: escala semilog\"\n",
        "graficar_diagrama_PT(P_sat_data, T_sat_data, titulo_fig_6)\n",
        "plt.plot(T_triple, P_triple, '^k', label='Punto triple')\n",
        "plt.plot(T_crit, P_crit, 'ok', label='Punto crítico')\n",
        "plt.xlim(240, 660)\n",
        "plt.yscale(\"log\")\n",
        "plt.legend(loc=\"lower right\")\n",
        "plt.show()"
      ]
    },
    {
      "cell_type": "markdown",
      "metadata": {
        "id": "mck9x6eencbS"
      },
      "source": [
        "Nótese que la nueva gráfica ofrece una mejor representación para todo el rango de temperaturas. El cambio de la curvatura se debe al escalado logarítmico.\n",
        "\n",
        "Ahora, vamos a cambiar el eje horizontal. En lugar de representar `T`, utilizaremos `1/T`. Esto implica cambiar las coordenadas de todos los puntos, incluyendo el punto triple y punto crítico, así como de las anotaciones.\n",
        "\n",
        "A continuación, se muestra el procedimiento; preste atención a los nuevos argumentos de la función `graficar_diagrama_PT`:"
      ]
    },
    {
      "cell_type": "code",
      "execution_count": 29,
      "metadata": {
        "colab": {
          "base_uri": "https://localhost:8080/",
          "height": 476
        },
        "id": "rZgfM9m6aZK3",
        "outputId": "dd1ab951-22f0-4c81-e8ea-a404b84f3420"
      },
      "outputs": [
        {
          "output_type": "display_data",
          "data": {
            "text/plain": [
              "<Figure size 640x480 with 1 Axes>"
            ],
            "image/png": "[encoded data removed]"
          },
          "metadata": {}
        }
      ],
      "source": [
        "titulo_fig_7 = \"Fig. 7. Diagrama P-1/T del agua: escala semilog\"\n",
        "graficar_diagrama_PT(\n",
        "    P_data=P_sat_data,\n",
        "    T_data=1/T_sat_data,\n",
        "    titulo=titulo_fig_7,\n",
        "    horiz_tag=\"1/T (1/K)\",\n",
        "    coord_liq=(0.00305, 0.15),\n",
        "    coord_vap=(0.00205, 0.15),\n",
        "    )\n",
        "plt.plot(1/T_triple, P_triple, '^k', label='Punto triple')\n",
        "plt.plot(1/T_crit, P_crit, 'ok', label='Punto crítico')\n",
        "plt.xlim(0.0015, 0.0040)\n",
        "plt.yscale(\"log\")\n",
        "plt.legend(loc=\"upper right\")\n",
        "plt.show()"
      ]
    },
    {
      "cell_type": "markdown",
      "metadata": {
        "id": "BvtZn4xapkWh"
      },
      "source": [
        "Como podrá intuir, la razón de cambiar el eje horizontal fue linealizar la curva de vaporización. Las transformaciones de variables y cambios de escala son estrategias de uso común en Ciencia de Datos, y también son aplicables a la Ingeniería Química.\n",
        "\n",
        "En este caso particular, se explica lo ocurrido a partir del modelo semi empírico de Clausius - Clapeyron de presión de saturación:\n",
        "\n",
        "$$ \\log P^{sat} = A - B/T$$\n",
        "\n",
        "Si aplicamos los cambios de variables: $ y = \\log P^{sat}; x = 1/T $, se obtiene la ecuación de una recta con pendiente negativa, lo cual es consistente con la tendencia observada en la fig. 7:\n",
        "$$ y = A - Bx $$\n"
      ]
    },
    {
      "cell_type": "markdown",
      "metadata": {
        "id": "QySuLGje2P8f"
      },
      "source": [
        "## Conclusiones\n",
        "\n",
        "- Python es un lenguaje de programación fácil de usar y con herramientas versátiles, aplicables tanto para la Ciencia de Datos como disciplinas de Ingeniería.\n",
        "- La librería `iapws` permite calcular de forma rápida y exacta las propiedades termodinámicas del agua.\n",
        "- La librería `NumPy` permite extender las capacidades de funciones de cálculo, aplicándolas para arreglos de datos de grandes dimensiones.\n",
        "- La librería `pandas` permite estructurar y representar datos como tablas.\n",
        "- La librería `Matplotlib` permite graficar conjuntos de datos, con varias funcionalidades para personalizar las figuras.\n",
        "- Los cambios de variables y escala son estrategias útiles para el procesamiento de datos.\n"
      ]
    }
  ],
  "metadata": {
    "colab": {
      "provenance": [],
      "toc_visible": true,
      "include_colab_link": true
    },
    "kernelspec": {
      "display_name": "Python 3",
      "name": "python3"
    },
    "language_info": {
      "name": "python",
      "version": "3.11.6"
    }
  },
  "nbformat": 4,
  "nbformat_minor": 0
}