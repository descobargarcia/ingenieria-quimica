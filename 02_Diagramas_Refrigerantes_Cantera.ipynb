{
  "cells": [
    {
      "cell_type": "markdown",
      "metadata": {
        "id": "view-in-github",
        "colab_type": "text"
      },
      "source": [
        "<a href=\"https://colab.research.google.com/github/descobargarcia/ingenieria-quimica/blob/colab_import/02_Diagramas_Refrigerantes_Cantera.ipynb\" target=\"_parent\"><img src=\"https://colab.research.google.com/assets/colab-badge.svg\" alt=\"Open In Colab\"/></a>"
      ]
    },
    {
      "cell_type": "markdown",
      "metadata": {
        "id": "fE5JkwrHHzY1"
      },
      "source": [
        "# CÁLCULO Y VISUALIZACIÓN DE PROPIEDADES TERMODINÁMICAS DE REFRIGERANTES USANDO PYTHON\n",
        "\n",
        "Los ciclos de refrigeración son de uso común en la industria química, en procesos que requieren operar a bajas temperaturas. Por lo tanto, es importante para dichos procesos disponer de herramientas confiables para calcular las propiedades de los fluidos refrigerantes. En particular, los diagramas termodinámicos Ts (temperatura - entropía) y Ph (presión - entalpía) son de utilidad para definir las condiciones operativas.\n",
        "\n",
        "En esta publicación, veremos cómo utilizar en Python la librería [Cantera](https://cantera.org/) para calcular propiedades termodinámicas de varios fluidos, como los refrigerantes. Además, utilizaremos librerías de Ciencia de Datos como [NumPy](https://numpy.org/doc/), [pandas](https://pandas.pydata.org/docs/) y [Matplotlib](https://matplotlib.org/) para extender los cálculos a muchos puntos y visualizar los resultados como tablas y diagramas.\n"
      ]
    },
    {
      "cell_type": "markdown",
      "metadata": {
        "id": "KyF_mJnJQ4Xh"
      },
      "source": [
        "## Librería Cantera\n",
        "\n",
        "Cantera es un conjunto de herramientas de código abierto para la solución de problemas que involucran cinética química, termodinámica y procesos de transporte. A diferencia de un software comercial, Cantera se puede utilizar de forma gratuita y el código fuente está disponible para que cualquier usuario pueda consultarlo.\n",
        "\n",
        "Por ahora, aplicaremos sólo algunas funcionalidades termodinámicas de Cantera. En futuros artículos, podríamos explorar herramientas más avanzadas de esta librería. Puede consultar la documentación del proyecto y tutoriales en su [página oficial](https://cantera.org/index.html).\n",
        "\n",
        "Para usar Cantera, primero debemos instalarla en nuestro entorno de trabajo y luego importarla, como se muestra en las próximas 2 celdas:"
      ]
    },
    {
      "cell_type": "code",
      "execution_count": 1,
      "metadata": {
        "colab": {
          "base_uri": "https://localhost:8080/"
        },
        "id": "trcanWE3ag_X",
        "outputId": "ac1016f4-d26e-451a-90df-687f5430a66c"
      },
      "outputs": [
        {
          "output_type": "stream",
          "name": "stdout",
          "text": [
            "Requirement already satisfied: cantera in /usr/local/lib/python3.10/dist-packages (3.0.0)\n",
            "Requirement already satisfied: numpy>=1.12.0 in /usr/local/lib/python3.10/dist-packages (from cantera) (1.25.2)\n",
            "Requirement already satisfied: ruamel.yaml>=0.15.34 in /usr/local/lib/python3.10/dist-packages (from cantera) (0.18.6)\n",
            "Requirement already satisfied: packaging in /usr/local/lib/python3.10/dist-packages (from cantera) (24.0)\n",
            "Requirement already satisfied: ruamel.yaml.clib>=0.2.7 in /usr/local/lib/python3.10/dist-packages (from ruamel.yaml>=0.15.34->cantera) (0.2.8)\n"
          ]
        }
      ],
      "source": [
        "!pip install cantera"
      ]
    },
    {
      "cell_type": "code",
      "execution_count": 2,
      "metadata": {
        "id": "vH_cLNzncLqI"
      },
      "outputs": [],
      "source": [
        "import cantera as ct"
      ]
    },
    {
      "cell_type": "markdown",
      "metadata": {
        "id": "dbZl696oqcMZ"
      },
      "source": [
        "A continuación, se muestra una lista de algunas propiedades termodinámicas disponibles. Es importante resaltar que **Cantera** trabaja *siempre* con unidades del Sistema Internacional (**SI**):\n",
        "\n",
        "| Variable | Propiedad                   | Unidades |\n",
        "|:--------:|:---------------------------:|:--------:|\n",
        "|P         | Presión                     | Pa       |\n",
        "|T         | Temperatura                 | K        |\n",
        "|v         | Volumen específico          | m3/kg    |\n",
        "|g         | Energía de Gibbs específica | J/kg     |\n",
        "|u         | Energía interna específica  | J/kg     |\n",
        "|h         | Entalpía específica         | J/kg     |\n",
        "|s         | Entropía específica         | J/(kg.K) |\n",
        "|Q         | Calidad de vapor            | ---      |\n",
        "\n"
      ]
    },
    {
      "cell_type": "markdown",
      "metadata": {
        "id": "h_Cpcey_VW7B"
      },
      "source": [
        "De forma predeterminada, Cantera tiene ecuaciones de estado para los siguientes fluidos puros:\n",
        "\n",
        "- Agua (H2O): ct.Water()\n",
        "- Nitrógeno (N2): ct.Nitrogen()\n",
        "- Metano (CH4): ct.Methane()\n",
        "- Hidrógeno (H2): ct.Hydrogen()\n",
        "- Oxígeno (O2): ct.Oxygen()\n",
        "- Dióxido de Carbono (CO2): ct.CarbonDioxide()\n",
        "- n-Heptano (C7H16): ct.Heptane()\n",
        "- Refrigerante R134a: ct.Hfc134a()\n"
      ]
    },
    {
      "cell_type": "markdown",
      "metadata": {
        "id": "sF3zdK2dX2ls"
      },
      "source": [
        "### Ejemplo 1: Calcular las propiedades termodinámicas para vapor de agua a 10 atm y 300 ºC."
      ]
    },
    {
      "cell_type": "code",
      "execution_count": 3,
      "metadata": {
        "colab": {
          "base_uri": "https://localhost:8080/"
        },
        "id": "aEqOBUNoce75",
        "outputId": "7a344e0e-61c4-4dd7-e57b-674e73124ff4"
      },
      "outputs": [
        {
          "output_type": "stream",
          "name": "stdout",
          "text": [
            "\n",
            "  water:\n",
            "\n",
            "       temperature   573.15 K\n",
            "          pressure   1.0133e+06 Pa\n",
            "           density   3.9295 kg/m^3\n",
            "  mean mol. weight   18.016 kg/kmol\n",
            "    vapor fraction   1\n",
            "   phase of matter   gas\n",
            "\n",
            "                          1 kg             1 kmol     \n",
            "                     ---------------   ---------------\n",
            "          enthalpy        -1.292e+07       -2.3277e+08  J\n",
            "   internal energy       -1.3178e+07       -2.3741e+08  J\n",
            "           entropy             10636        1.9162e+05  J/K\n",
            "    Gibbs function       -1.9016e+07        -3.426e+08  J\n",
            " heat capacity c_p            2144.3             38631  J/K\n",
            " heat capacity c_v            1609.6             28999  J/K\n",
            "\n",
            "None\n"
          ]
        }
      ],
      "source": [
        "# Instanciamos un objeto del tipo \"PureFluid\"\n",
        "agua = ct.Water()\n",
        "# Conversión a unidades SI\n",
        "P1 = 10 * 101325     # Pa\n",
        "T1 = 300 + 273.15    # K\n",
        "# Definimos estado termodinámico\n",
        "agua.TP = T1, P1\n",
        "# Visualizamos resultados\n",
        "print(agua())"
      ]
    },
    {
      "cell_type": "markdown",
      "metadata": {
        "id": "5Tb--ZgMXLlY"
      },
      "source": [
        "Si sólo queremos una propiedad específica, podemos consultarla como se muestra a continuación:"
      ]
    },
    {
      "cell_type": "code",
      "execution_count": 4,
      "metadata": {
        "colab": {
          "base_uri": "https://localhost:8080/"
        },
        "id": "xI8Fyfm_KY--",
        "outputId": "c3142377-db7a-4bf4-9f94-27a2d411d337"
      },
      "outputs": [
        {
          "output_type": "stream",
          "name": "stdout",
          "text": [
            "v1 = 0.254482 m3/kg\n",
            "g1 = -1.901620e+07 J/kg\n"
          ]
        }
      ],
      "source": [
        "# Volumen específico\n",
        "v1 = agua.v\n",
        "# Energía de Gibbs específica\n",
        "g1 = agua.g\n",
        "# Imprimiendo resultados\n",
        "print(f\"{v1 = :.6f} m3/kg\") # Notación decimal, 6 cifras decimales\n",
        "print(f\"{g1 = :.6e} J/kg\")  # Notación científica, 6 cifras significativas"
      ]
    },
    {
      "cell_type": "markdown",
      "metadata": {
        "id": "NDqnu2J2YMEA"
      },
      "source": [
        "### Ejemplo 2: Calcular las propiedades de vapor saturado de agua a 100 ºC"
      ]
    },
    {
      "cell_type": "code",
      "execution_count": 5,
      "metadata": {
        "colab": {
          "base_uri": "https://localhost:8080/"
        },
        "id": "XBN9CL28eWbQ",
        "outputId": "277d96b4-1258-4168-8f14-4d37f766e547"
      },
      "outputs": [
        {
          "output_type": "stream",
          "name": "stdout",
          "text": [
            "\n",
            "  water:\n",
            "\n",
            "       temperature   373.15 K\n",
            "          pressure   1.0123e+05 Pa\n",
            "           density   0.59703 kg/m^3\n",
            "  mean mol. weight   18.016 kg/kmol\n",
            "    vapor fraction   1\n",
            "   phase of matter   liquid-gas-mix\n",
            "\n",
            "                          1 kg             1 kmol     \n",
            "                     ---------------   ---------------\n",
            "          enthalpy       -1.3295e+07       -2.3952e+08  J\n",
            "   internal energy       -1.3464e+07       -2.4257e+08  J\n",
            "           entropy             10875        1.9593e+05  J/K\n",
            "    Gibbs function       -1.7353e+07       -3.1263e+08  J\n",
            " heat capacity c_p            2032.3             36614  J/K\n",
            " heat capacity c_v            1514.3             27282  J/K\n",
            "\n",
            "None\n"
          ]
        }
      ],
      "source": [
        "# Vapor saturado --> Q = 1\n",
        "Q2 = 1\n",
        "# Conversión: ºC --> K\n",
        "T2 = 100 + 273.15   # K\n",
        "agua.TQ = T2, Q2\n",
        "print(agua())"
      ]
    },
    {
      "cell_type": "markdown",
      "metadata": {
        "id": "1agu-Vh6Y_8j"
      },
      "source": [
        "### Ejemplo 3: Obtener las propiedades críticas y temperaturas límite para el refrigerante R134a."
      ]
    },
    {
      "cell_type": "code",
      "execution_count": 6,
      "metadata": {
        "colab": {
          "base_uri": "https://localhost:8080/"
        },
        "id": "K2dcUdwQgY0h",
        "outputId": "610ec85f-4849-49f4-86e0-aa95e201bdc6"
      },
      "outputs": [
        {
          "output_type": "stream",
          "name": "stdout",
          "text": [
            "dc = 511.95 kg/m3\n",
            "Pc = 4059280.0 Pa\n",
            "Tc = 374.21 K\n",
            "T_min = 170.0 K\n",
            "T_max = 455.0 K\n"
          ]
        }
      ],
      "source": [
        "R134a = ct.Hfc134a()\n",
        "\n",
        "# Propiedades críticas\n",
        "dc = R134a.critical_density\n",
        "Pc = R134a.critical_pressure\n",
        "Tc = R134a.critical_temperature\n",
        "# Rango de temperaturas válidas\n",
        "T_min = R134a.min_temp\n",
        "T_max = R134a.max_temp\n",
        "\n",
        "print(f\"{dc = } kg/m3\")\n",
        "print(f\"{Pc = } Pa\")\n",
        "print(f\"{Tc = } K\")\n",
        "print(f\"{T_min = } K\")\n",
        "print(f\"{T_max = } K\")"
      ]
    },
    {
      "cell_type": "markdown",
      "metadata": {
        "id": "nNJaHWgRubyu"
      },
      "source": [
        "- Conocer las propiedades críticas siempre es importante, ya que las transiciones de equilibrio líquido-vapor sólo pueden ocurrir si `P < Pc` y `T < Tc`.\n",
        "\n",
        "- Todos los modelos tienen un rango de aplicabilidad. Si intentamos definir o calcular un estado termodinámico para una temperatura fuera del intervalo `(T_min, T_max)`, el programa elevará el siguiente error: `CanteraError: Temperature out of range`.  "
      ]
    },
    {
      "cell_type": "markdown",
      "metadata": {
        "id": "p2GryltnecMY"
      },
      "source": [
        "## Cálculos y diagramas Ts: fluido R134a\n",
        "\n",
        "El objetivo de esta sección es construir un diagrama TS para el refrigerante R134a para un rango amplio de condiciones operativas. En tal sentido, necesitaremos calcular varias isóbaras (líneas de presión constante), así como región de equilibrio líquido-vapor (líneas de saturación)."
      ]
    },
    {
      "cell_type": "markdown",
      "metadata": {
        "id": "CpFluBzWetuV"
      },
      "source": [
        "### Funciones vectorizadas\n",
        "\n",
        "Los métodos de la librería Cantera trabajan con unidades **SI**. Sin embargo, esto implica valores numéricos muy grandes para algunas propiedades, como presión `(P)` y entalpía `(h)`. Por ejemplo, consideremos la presión atmosférica: 1 atm = 1.01325 bar = 101325 Pa. Como se puede apreciar, es más práctico trabajar con unidades de `bar` que `Pa` porque se reduce la magnitud por un factor de $10^5$. Por otro lado, si utilizamos `kJ` en lugar `J` para energía, reducimos por un factor de $10^3$ los valores de entalpía.\n",
        "\n",
        "Para evitar repetitivas conversiones de unidades, podemos \"envolver\" (*wrap*) los métodos de Cantera en nuestras propias funciones."
      ]
    },
    {
      "cell_type": "code",
      "execution_count": 7,
      "metadata": {
        "id": "jWdZnGMXqoS1"
      },
      "outputs": [],
      "source": [
        "def calc_s_TP(fluido, T, P_bar):\n",
        "    \"\"\"Calcula la entropía específica {s: J/(kg.K)} para un\n",
        "    fluido puro disponible en la librería Cantera, a partir\n",
        "    de la temperatura {T: K} y la presión {P: bar} definidas\n",
        "    \"\"\"\n",
        "    P = P_bar * 10**5\n",
        "    fluido.TP = T, P\n",
        "    return fluido.s\n",
        "\n",
        "def id_fase_TP(fluido, T, P_bar):\n",
        "    \"\"\"Identifica la fase para un fluido puro disponible en\n",
        "    la librería Cantera, a partir de la temperatura {T: K} y\n",
        "    la presión {P: bar} definidas\"\"\"\n",
        "    P = P_bar * 10**5\n",
        "    fluido.TP = T, P\n",
        "    return fluido.phase_of_matter\n",
        "\n",
        "def calc_s_sat_TQ(fluido, T, Q):\n",
        "    \"\"\"Calcula la entropía específica {s: J/(kg.K)} en la\n",
        "    región de saturación para un fluido disponible en la\n",
        "    librería Cantera, a partir de la temperatura {T: K} y\n",
        "    calidad de vapor {Q: --} definidas\"\"\"\n",
        "    fluido.TQ = T, Q\n",
        "    return fluido.s"
      ]
    },
    {
      "cell_type": "markdown",
      "metadata": {
        "id": "JXIl4JEBfvt6"
      },
      "source": [
        "Si queremos utilizar estas funciones para calcular muchos puntos, podemos aplicar la **vectorización** de NumPy.\n",
        "\n",
        "Con el parámetro opcional `excluded`, podemos controlar cuáles variables NO queremos vectorizar, como se muestra a continuación:"
      ]
    },
    {
      "cell_type": "code",
      "execution_count": 8,
      "metadata": {
        "id": "lFD7tADPa3Ta"
      },
      "outputs": [],
      "source": [
        "import numpy as np\n",
        "\n",
        "calc_entropias_isobara = np.vectorize(\n",
        "    calc_s_TP, excluded={'fluido', 'P'})\n",
        "id_fases_isobara = np.vectorize(\n",
        "    id_fase_TP, excluded={'fluido', 'P'})\n",
        "calc_entropias_sat_TQ = np.vectorize(\n",
        "    calc_s_sat_TQ, excluded={\"fluido\", \"Q\"})"
      ]
    },
    {
      "cell_type": "markdown",
      "metadata": {
        "id": "9ZxCTGQUlXQS"
      },
      "source": [
        "### Cálculos Ts: isóbara P1 = 1 bar\n",
        "\n",
        "Utilizando la función `np.linspace`, vamos a definir un rango de temperaturas válido con suficientes puntos **linealmente** equiespaciados. Este tipo de espaciado se utiliza frecuentemente cuando una variable se mantiene en el mismo orden de magnitud. En nuestro ejemplo, la temperatura se mantiene dentro del orden de magnitud $10^{+2}$ K.\n",
        "\n",
        "Todos los puntos estarán a igual presión (P1 = 1 bar). Para cada estado `(T, P1)`, se calculará la respectiva entropía `s` y se determinará su fase."
      ]
    },
    {
      "cell_type": "code",
      "execution_count": 9,
      "metadata": {
        "id": "l4DvXHWHbktV"
      },
      "outputs": [],
      "source": [
        "# Rango de temperaturas\n",
        "T0 = 200 # K\n",
        "Tf = 450 # K\n",
        "dT = 1.0 # K\n",
        "num_puntos = 1 + int((Tf-T0)/dT)\n",
        "temperaturas_isobaras = np.linspace(T0, Tf, num_puntos)\n",
        "# Presión\n",
        "P1_bar = 1\n",
        "# Cálculo de propiedades\n",
        "kwargs_P1 = {\n",
        "    'fluido': R134a,\n",
        "    'T': temperaturas_isobaras,\n",
        "    'P_bar': P1_bar\n",
        "    }\n",
        "entropias_P1 = calc_entropias_isobara(**kwargs_P1)\n",
        "fases_P1 = id_fases_isobara(**kwargs_P1)"
      ]
    },
    {
      "cell_type": "markdown",
      "metadata": {
        "id": "UVVijb7AyC3M"
      },
      "source": [
        "Utilizando la librería `pandas`, podemos representar las propiedades termodinámicas para esta isóbara como una tabla:"
      ]
    },
    {
      "cell_type": "code",
      "execution_count": 10,
      "metadata": {
        "colab": {
          "base_uri": "https://localhost:8080/",
          "height": 423
        },
        "id": "Pcs02rQdzjTe",
        "outputId": "0357efc5-1657-4586-cdb7-6ba2ba9fb8ea"
      },
      "outputs": [
        {
          "output_type": "execute_result",
          "data": {
            "text/plain": [
              "     T [K]  s [J/(kg.K)]           Fase\n",
              "0    200.0    339.121805         liquid\n",
              "1    201.0    345.137964         liquid\n",
              "2    202.0    351.130277         liquid\n",
              "3    203.0    357.099076         liquid\n",
              "4    204.0    363.044685         liquid\n",
              "..     ...           ...            ...\n",
              "246  446.0   2019.568542  supercritical\n",
              "247  447.0   2021.989103  supercritical\n",
              "248  448.0   2024.407616  supercritical\n",
              "249  449.0   2026.824087  supercritical\n",
              "250  450.0   2029.238524  supercritical\n",
              "\n",
              "[251 rows x 3 columns]"
            ],
            "text/html": [
              "\n",
              "  <div id=\"df-584e40f6-1bef-41ca-be0a-b7d1d7fb6124\" class=\"colab-df-container\">\n",
              "    <div>\n",
              "<style scoped>\n",
              "    .dataframe tbody tr th:only-of-type {\n",
              "        vertical-align: middle;\n",
              "    }\n",
              "\n",
              "    .dataframe tbody tr th {\n",
              "        vertical-align: top;\n",
              "    }\n",
              "\n",
              "    .dataframe thead th {\n",
              "        text-align: right;\n",
              "    }\n",
              "</style>\n",
              "<table border=\"1\" class=\"dataframe\">\n",
              "  <thead>\n",
              "    <tr style=\"text-align: right;\">\n",
              "      <th></th>\n",
              "      <th>T [K]</th>\n",
              "      <th>s [J/(kg.K)]</th>\n",
              "      <th>Fase</th>\n",
              "    </tr>\n",
              "  </thead>\n",
              "  <tbody>\n",
              "    <tr>\n",
              "      <th>0</th>\n",
              "      <td>200.0</td>\n",
              "      <td>339.121805</td>\n",
              "      <td>liquid</td>\n",
              "    </tr>\n",
              "    <tr>\n",
              "      <th>1</th>\n",
              "      <td>201.0</td>\n",
              "      <td>345.137964</td>\n",
              "      <td>liquid</td>\n",
              "    </tr>\n",
              "    <tr>\n",
              "      <th>2</th>\n",
              "      <td>202.0</td>\n",
              "      <td>351.130277</td>\n",
              "      <td>liquid</td>\n",
              "    </tr>\n",
              "    <tr>\n",
              "      <th>3</th>\n",
              "      <td>203.0</td>\n",
              "      <td>357.099076</td>\n",
              "      <td>liquid</td>\n",
              "    </tr>\n",
              "    <tr>\n",
              "      <th>4</th>\n",
              "      <td>204.0</td>\n",
              "      <td>363.044685</td>\n",
              "      <td>liquid</td>\n",
              "    </tr>\n",
              "    <tr>\n",
              "      <th>...</th>\n",
              "      <td>...</td>\n",
              "      <td>...</td>\n",
              "      <td>...</td>\n",
              "    </tr>\n",
              "    <tr>\n",
              "      <th>246</th>\n",
              "      <td>446.0</td>\n",
              "      <td>2019.568542</td>\n",
              "      <td>supercritical</td>\n",
              "    </tr>\n",
              "    <tr>\n",
              "      <th>247</th>\n",
              "      <td>447.0</td>\n",
              "      <td>2021.989103</td>\n",
              "      <td>supercritical</td>\n",
              "    </tr>\n",
              "    <tr>\n",
              "      <th>248</th>\n",
              "      <td>448.0</td>\n",
              "      <td>2024.407616</td>\n",
              "      <td>supercritical</td>\n",
              "    </tr>\n",
              "    <tr>\n",
              "      <th>249</th>\n",
              "      <td>449.0</td>\n",
              "      <td>2026.824087</td>\n",
              "      <td>supercritical</td>\n",
              "    </tr>\n",
              "    <tr>\n",
              "      <th>250</th>\n",
              "      <td>450.0</td>\n",
              "      <td>2029.238524</td>\n",
              "      <td>supercritical</td>\n",
              "    </tr>\n",
              "  </tbody>\n",
              "</table>\n",
              "<p>251 rows × 3 columns</p>\n",
              "</div>\n",
              "    <div class=\"colab-df-buttons\">\n",
              "\n",
              "  <div class=\"colab-df-container\">\n",
              "    <button class=\"colab-df-convert\" onclick=\"convertToInteractive('df-584e40f6-1bef-41ca-be0a-b7d1d7fb6124')\"\n",
              "            title=\"Convert this dataframe to an interactive table.\"\n",
              "            style=\"display:none;\">\n",
              "\n",
              "  <svg xmlns=\"http://www.w3.org/2000/svg\" height=\"24px\" viewBox=\"0 -960 960 960\">\n",
              "    <path d=\"M120-120v-720h720v720H120Zm60-500h600v-160H180v160Zm220 220h160v-160H400v160Zm0 220h160v-160H400v160ZM180-400h160v-160H180v160Zm440 0h160v-160H620v160ZM180-180h160v-160H180v160Zm440 0h160v-160H620v160Z\"/>\n",
              "  </svg>\n",
              "    </button>\n",
              "\n",
              "  <style>\n",
              "    .colab-df-container {\n",
              "      display:flex;\n",
              "      gap: 12px;\n",
              "    }\n",
              "\n",
              "    .colab-df-convert {\n",
              "      background-color: #E8F0FE;\n",
              "      border: none;\n",
              "      border-radius: 50%;\n",
              "      cursor: pointer;\n",
              "      display: none;\n",
              "      fill: #1967D2;\n",
              "      height: 32px;\n",
              "      padding: 0 0 0 0;\n",
              "      width: 32px;\n",
              "    }\n",
              "\n",
              "    .colab-df-convert:hover {\n",
              "      background-color: #E2EBFA;\n",
              "      box-shadow: 0px 1px 2px rgba(60, 64, 67, 0.3), 0px 1px 3px 1px rgba(60, 64, 67, 0.15);\n",
              "      fill: #174EA6;\n",
              "    }\n",
              "\n",
              "    .colab-df-buttons div {\n",
              "      margin-bottom: 4px;\n",
              "    }\n",
              "\n",
              "    [theme=dark] .colab-df-convert {\n",
              "      background-color: #3B4455;\n",
              "      fill: #D2E3FC;\n",
              "    }\n",
              "\n",
              "    [theme=dark] .colab-df-convert:hover {\n",
              "      background-color: #434B5C;\n",
              "      box-shadow: 0px 1px 3px 1px rgba(0, 0, 0, 0.15);\n",
              "      filter: drop-shadow(0px 1px 2px rgba(0, 0, 0, 0.3));\n",
              "      fill: #FFFFFF;\n",
              "    }\n",
              "  </style>\n",
              "\n",
              "    <script>\n",
              "      const buttonEl =\n",
              "        document.querySelector('#df-584e40f6-1bef-41ca-be0a-b7d1d7fb6124 button.colab-df-convert');\n",
              "      buttonEl.style.display =\n",
              "        google.colab.kernel.accessAllowed ? 'block' : 'none';\n",
              "\n",
              "      async function convertToInteractive(key) {\n",
              "        const element = document.querySelector('#df-584e40f6-1bef-41ca-be0a-b7d1d7fb6124');\n",
              "        const dataTable =\n",
              "          await google.colab.kernel.invokeFunction('convertToInteractive',\n",
              "                                                    [key], {});\n",
              "        if (!dataTable) return;\n",
              "\n",
              "        const docLinkHtml = 'Like what you see? Visit the ' +\n",
              "          '<a target=\"_blank\" href=https://colab.research.google.com/notebooks/data_table.ipynb>data table notebook</a>'\n",
              "          + ' to learn more about interactive tables.';\n",
              "        element.innerHTML = '';\n",
              "        dataTable['output_type'] = 'display_data';\n",
              "        await google.colab.output.renderOutput(dataTable, element);\n",
              "        const docLink = document.createElement('div');\n",
              "        docLink.innerHTML = docLinkHtml;\n",
              "        element.appendChild(docLink);\n",
              "      }\n",
              "    </script>\n",
              "  </div>\n",
              "\n",
              "\n",
              "<div id=\"df-b14c14da-5bf8-4c9d-acaa-823edc03c7af\">\n",
              "  <button class=\"colab-df-quickchart\" onclick=\"quickchart('df-b14c14da-5bf8-4c9d-acaa-823edc03c7af')\"\n",
              "            title=\"Suggest charts\"\n",
              "            style=\"display:none;\">\n",
              "\n",
              "<svg xmlns=\"http://www.w3.org/2000/svg\" height=\"24px\"viewBox=\"0 0 24 24\"\n",
              "     width=\"24px\">\n",
              "    <g>\n",
              "        <path d=\"M19 3H5c-1.1 0-2 .9-2 2v14c0 1.1.9 2 2 2h14c1.1 0 2-.9 2-2V5c0-1.1-.9-2-2-2zM9 17H7v-7h2v7zm4 0h-2V7h2v10zm4 0h-2v-4h2v4z\"/>\n",
              "    </g>\n",
              "</svg>\n",
              "  </button>\n",
              "\n",
              "<style>\n",
              "  .colab-df-quickchart {\n",
              "      --bg-color: #E8F0FE;\n",
              "      --fill-color: #1967D2;\n",
              "      --hover-bg-color: #E2EBFA;\n",
              "      --hover-fill-color: #174EA6;\n",
              "      --disabled-fill-color: #AAA;\n",
              "      --disabled-bg-color: #DDD;\n",
              "  }\n",
              "\n",
              "  [theme=dark] .colab-df-quickchart {\n",
              "      --bg-color: #3B4455;\n",
              "      --fill-color: #D2E3FC;\n",
              "      --hover-bg-color: #434B5C;\n",
              "      --hover-fill-color: #FFFFFF;\n",
              "      --disabled-bg-color: #3B4455;\n",
              "      --disabled-fill-color: #666;\n",
              "  }\n",
              "\n",
              "  .colab-df-quickchart {\n",
              "    background-color: var(--bg-color);\n",
              "    border: none;\n",
              "    border-radius: 50%;\n",
              "    cursor: pointer;\n",
              "    display: none;\n",
              "    fill: var(--fill-color);\n",
              "    height: 32px;\n",
              "    padding: 0;\n",
              "    width: 32px;\n",
              "  }\n",
              "\n",
              "  .colab-df-quickchart:hover {\n",
              "    background-color: var(--hover-bg-color);\n",
              "    box-shadow: 0 1px 2px rgba(60, 64, 67, 0.3), 0 1px 3px 1px rgba(60, 64, 67, 0.15);\n",
              "    fill: var(--button-hover-fill-color);\n",
              "  }\n",
              "\n",
              "  .colab-df-quickchart-complete:disabled,\n",
              "  .colab-df-quickchart-complete:disabled:hover {\n",
              "    background-color: var(--disabled-bg-color);\n",
              "    fill: var(--disabled-fill-color);\n",
              "    box-shadow: none;\n",
              "  }\n",
              "\n",
              "  .colab-df-spinner {\n",
              "    border: 2px solid var(--fill-color);\n",
              "    border-color: transparent;\n",
              "    border-bottom-color: var(--fill-color);\n",
              "    animation:\n",
              "      spin 1s steps(1) infinite;\n",
              "  }\n",
              "\n",
              "  @keyframes spin {\n",
              "    0% {\n",
              "      border-color: transparent;\n",
              "      border-bottom-color: var(--fill-color);\n",
              "      border-left-color: var(--fill-color);\n",
              "    }\n",
              "    20% {\n",
              "      border-color: transparent;\n",
              "      border-left-color: var(--fill-color);\n",
              "      border-top-color: var(--fill-color);\n",
              "    }\n",
              "    30% {\n",
              "      border-color: transparent;\n",
              "      border-left-color: var(--fill-color);\n",
              "      border-top-color: var(--fill-color);\n",
              "      border-right-color: var(--fill-color);\n",
              "    }\n",
              "    40% {\n",
              "      border-color: transparent;\n",
              "      border-right-color: var(--fill-color);\n",
              "      border-top-color: var(--fill-color);\n",
              "    }\n",
              "    60% {\n",
              "      border-color: transparent;\n",
              "      border-right-color: var(--fill-color);\n",
              "    }\n",
              "    80% {\n",
              "      border-color: transparent;\n",
              "      border-right-color: var(--fill-color);\n",
              "      border-bottom-color: var(--fill-color);\n",
              "    }\n",
              "    90% {\n",
              "      border-color: transparent;\n",
              "      border-bottom-color: var(--fill-color);\n",
              "    }\n",
              "  }\n",
              "</style>\n",
              "\n",
              "  <script>\n",
              "    async function quickchart(key) {\n",
              "      const quickchartButtonEl =\n",
              "        document.querySelector('#' + key + ' button');\n",
              "      quickchartButtonEl.disabled = true;  // To prevent multiple clicks.\n",
              "      quickchartButtonEl.classList.add('colab-df-spinner');\n",
              "      try {\n",
              "        const charts = await google.colab.kernel.invokeFunction(\n",
              "            'suggestCharts', [key], {});\n",
              "      } catch (error) {\n",
              "        console.error('Error during call to suggestCharts:', error);\n",
              "      }\n",
              "      quickchartButtonEl.classList.remove('colab-df-spinner');\n",
              "      quickchartButtonEl.classList.add('colab-df-quickchart-complete');\n",
              "    }\n",
              "    (() => {\n",
              "      let quickchartButtonEl =\n",
              "        document.querySelector('#df-b14c14da-5bf8-4c9d-acaa-823edc03c7af button');\n",
              "      quickchartButtonEl.style.display =\n",
              "        google.colab.kernel.accessAllowed ? 'block' : 'none';\n",
              "    })();\n",
              "  </script>\n",
              "</div>\n",
              "\n",
              "    </div>\n",
              "  </div>\n"
            ],
            "application/vnd.google.colaboratory.intrinsic+json": {
              "type": "dataframe",
              "summary": "{\n  \"name\": \"pd\",\n  \"rows\": 251,\n  \"fields\": [\n    {\n      \"column\": \"T [K]\",\n      \"properties\": {\n        \"dtype\": \"number\",\n        \"std\": 72.60165287374662,\n        \"min\": 200.0,\n        \"max\": 450.0,\n        \"num_unique_values\": 251,\n        \"samples\": [\n          355.0,\n          206.0,\n          364.0\n        ],\n        \"semantic_type\": \"\",\n        \"description\": \"\"\n      }\n    },\n    {\n      \"column\": \"s [J/(kg.K)]\",\n      \"properties\": {\n        \"dtype\": \"number\",\n        \"std\": 527.5398230286281,\n        \"min\": 339.12180456075555,\n        \"max\": 2029.238524335527,\n        \"num_unique_values\": 251,\n        \"samples\": [\n          1789.6178807398796,\n          374.86760535303097,\n          1813.3176069284814\n        ],\n        \"semantic_type\": \"\",\n        \"description\": \"\"\n      }\n    },\n    {\n      \"column\": \"Fase\",\n      \"properties\": {\n        \"dtype\": \"category\",\n        \"num_unique_values\": 3,\n        \"samples\": [\n          \"liquid\",\n          \"gas\",\n          \"supercritical\"\n        ],\n        \"semantic_type\": \"\",\n        \"description\": \"\"\n      }\n    }\n  ]\n}"
            }
          },
          "metadata": {},
          "execution_count": 10
        }
      ],
      "source": [
        "import pandas as pd\n",
        "\n",
        "isobara_Ts_P1 = {\n",
        "    'T [K]': temperaturas_isobaras,\n",
        "    's [J/(kg.K)]': entropias_P1,\n",
        "    'Fase': fases_P1\n",
        "    }\n",
        "pd.DataFrame(isobara_Ts_P1)"
      ]
    },
    {
      "cell_type": "markdown",
      "metadata": {
        "id": "D76KnogAljCr"
      },
      "source": [
        "### Diagrama Ts: isóbara P1 = 1 bar\n",
        "\n",
        "Para graficar los diagramas, utilizaremos la librería `Matplotlib`. Podemos definir una función que sirva como \"plantilla\" para los diagramas Ts. Más adelante, la reutilizaremos al graficar el diagrama completo."
      ]
    },
    {
      "cell_type": "code",
      "execution_count": 11,
      "metadata": {
        "id": "aY6Vs9rK1byr"
      },
      "outputs": [],
      "source": [
        "import matplotlib.pyplot as plt\n",
        "\n",
        "def config_diagrama_Ts(titulo: str) -> None:\n",
        "    plt.title(titulo)\n",
        "    plt.xlabel(\"Entropía específica [J/(kg.K)]\")\n",
        "    plt.ylabel(\"Temperatura [K]\")\n",
        "    plt.minorticks_on() # subdivisiones en los ejes\n",
        "    plt.grid(True)      # cuadriculado"
      ]
    },
    {
      "cell_type": "markdown",
      "metadata": {
        "id": "kZy-vsMCErLp"
      },
      "source": [
        "A partir de la data de la isoterma T1, graficamos una primera versión del diagrama Ts. Para mayor comprensión de la figura, podemos incluir algunas anotaciones (`plt.annotate`)."
      ]
    },
    {
      "cell_type": "code",
      "execution_count": 12,
      "metadata": {
        "colab": {
          "base_uri": "https://localhost:8080/",
          "height": 473
        },
        "id": "37rpVRf4kpmu",
        "outputId": "156a2b30-a0a4-40c1-ef04-0090eaff06c5"
      },
      "outputs": [
        {
          "output_type": "display_data",
          "data": {
            "text/plain": [
              "<Figure size 640x480 with 1 Axes>"
            ],
            "image/png": "[encoded data removed]"
          },
          "metadata": {}
        }
      ],
      "source": [
        "titulo_fig_1 = \"Fig. 1: Isóbara Ts del R134a\"\n",
        "config_diagrama_Ts(titulo_fig_1)\n",
        "plt.plot(entropias_P1, temperaturas_isobaras, '-k', label=\"P1 = 1 bar\")\n",
        "estilo_anotacion = {\n",
        "    \"fontsize\": 8,\n",
        "    \"fontweight\": \"semibold\",\n",
        "    \"arrowprops\": dict(linewidth=2, arrowstyle=\"->\")\n",
        "    }\n",
        "plt.annotate(\"Líquido\",\n",
        "             xy=(400, 210), xytext=(300, 235),\n",
        "             color=\"blue\", **estilo_anotacion)\n",
        "plt.annotate(\"Equilibrio Líquido - Vapor\",\n",
        "             xy=(1000, 245), xytext=(750, 270),\n",
        "             color=\"magenta\", **estilo_anotacion)\n",
        "plt.annotate(\"Vapor\",\n",
        "             xy=(1600, 290), xytext=(1600, 265),\n",
        "             color=\"red\", **estilo_anotacion)\n",
        "plt.xlim(200, 2100)\n",
        "plt.legend()\n",
        "plt.show()"
      ]
    },
    {
      "cell_type": "markdown",
      "metadata": {
        "id": "vHUV46j-ycNC"
      },
      "source": [
        "Podemos diferenciar 3 regiones en la isóbara graficada.\n",
        "\n",
        "- **Líquido subenfriado**: la entropía aumenta linealmente con la temperatura, hasta alcanzar el punto de líquido saturado.\n",
        "- **Equilibrio líquido-vapor**: la temperatura se mantiene constante (calor latente), pero la entropía sigue aumentando a medida que evoluciona la transición de líquido saturado (izquierda) hasta vapor saturado (derecha).\n",
        "- **Vapor sobrecalentado**: la entropía aumenta linealmente con la temperatura, desde la condición de vapor saturado hasta la temperatura final deseada.\n",
        "\n",
        "La pendiente de la recta de vapor sobrecalentado es diferente a la de líquido subenfriado, debido a que cada fase tiene su propia capacidad calorífica `Cp`."
      ]
    },
    {
      "cell_type": "markdown",
      "metadata": {
        "id": "nH4dqxd8l1v3"
      },
      "source": [
        "### Cálculos Ts: líneas isóbaras\n",
        "\n",
        "Para construir un diagrama Ts más completo, debemos calcular varias isóbaras. Una vez definida la lista de presiones de trabajo, se calculan las entropías para cada isóbara mediante un `dict comprehension`:\n",
        "\n"
      ]
    },
    {
      "cell_type": "code",
      "execution_count": 13,
      "metadata": {
        "id": "XWQqIVI43MHJ"
      },
      "outputs": [],
      "source": [
        "Pc_bar = Pc * 10**-5\n",
        "presiones_bar_isobaras = [0.1, 1, 10, Pc_bar, 50, 100]\n",
        "# dict comprehension\n",
        "entropias_isobaras = {\n",
        "    Pi: calc_entropias_isobara(fluido=R134a, T=temperaturas_isobaras, P_bar=Pi)\n",
        "    for Pi in presiones_bar_isobaras\n",
        "    }"
      ]
    },
    {
      "cell_type": "markdown",
      "metadata": {
        "id": "GQEx9GOFl9Hw"
      },
      "source": [
        "### Cálculos Ts: líneas de saturación\n",
        "\n",
        "Para calcular las líneas de equilibrio líquido-vapor, debemos definir un nuevo rango de temperaturas que no exceda la temperatura crítica `Tc`. La campana de saturación se construye a partir de la línea de líquido saturado, la línea de vapor saturado y el punto crítico (en el cual se unen ambas líneas).\n"
      ]
    },
    {
      "cell_type": "code",
      "execution_count": 14,
      "metadata": {
        "id": "sPuxGahvmEu4"
      },
      "outputs": [],
      "source": [
        "# Intervalo de temperaturas\n",
        "T0 = 200 # K\n",
        "# Un valor de Tf más próximo al punto crítico (Tc = 374.21 K) eleva un\n",
        "# 'CanteraError: Temperature out of range'\n",
        "Tf = 374 # K\n",
        "dT = 1.0 # K\n",
        "num_puntos = 1 + int((Tf-T0)/dT)\n",
        "T_sat_data = np.linspace(T0, Tf, num_puntos)\n",
        "# Líquido saturado\n",
        "sL_sat_data = calc_entropias_sat_TQ(fluido=R134a, T=T_sat_data, Q=0)\n",
        "# Vapor saturado\n",
        "sG_sat_data = calc_entropias_sat_TQ(fluido=R134a, T=T_sat_data, Q=1)\n",
        "# Punto crítico\n",
        "sc = calc_s_TP(R134a, Tc, Pc_bar)"
      ]
    },
    {
      "cell_type": "markdown",
      "metadata": {
        "id": "hGgVMo4Zmbc8"
      },
      "source": [
        "### Diagrama Ts completo\n",
        "\n",
        "Con la data disponible, ahora podemos graficar un diagrama Ts usando la librería `Matplotlib`:"
      ]
    },
    {
      "cell_type": "code",
      "execution_count": 15,
      "metadata": {
        "colab": {
          "base_uri": "https://localhost:8080/",
          "height": 472
        },
        "id": "86EfpM885rps",
        "outputId": "290a5d65-b67b-4594-b0fd-e254aad6393b"
      },
      "outputs": [
        {
          "output_type": "display_data",
          "data": {
            "text/plain": [
              "<Figure size 640x480 with 1 Axes>"
            ],
            "image/png": "[encoded data removed]"
          },
          "metadata": {}
        }
      ],
      "source": [
        "titulo_fig_2 = \"Fig. 2: Diagrama Ts completo del R134a\"\n",
        "config_diagrama_Ts(titulo_fig_2)\n",
        "# Graficando isobaras\n",
        "colores_isobaras = ['orange', 'green', 'teal', 'black', 'magenta', 'maroon']\n",
        "for P, color in zip(presiones_bar_isobaras, colores_isobaras):\n",
        "    plt.plot(\n",
        "        entropias_isobaras[P], temperaturas_isobaras,\n",
        "        label=f\"{P = :.1f} bar\",\n",
        "        color=color,\n",
        "        linestyle=\"dashed\",\n",
        "    )\n",
        "# Graficando líneas de saturacion\n",
        "plt.plot(sL_sat_data, T_sat_data, \"-b\", label=\"Líq. sat.\")\n",
        "plt.plot(sG_sat_data, T_sat_data, \"-r\", label=\"Vap. sat.\")\n",
        "# Graficando punto crítico\n",
        "plt.plot(sc, Tc, \"-ok\", label=\"Punto crítico\")\n",
        "# Mostrando leyenda y gráfica\n",
        "plt.xlim(200, 2300)\n",
        "plt.legend()\n",
        "plt.show()"
      ]
    },
    {
      "cell_type": "markdown",
      "metadata": {
        "id": "BnKp7PH1nnVF"
      },
      "source": [
        "- Las isóbaras subcríticas `(P < Pc)` muestran el mismo comportamiento de la figura 1.\n",
        "- La isóbara crítica `(P = Pc = 40.6 bar)` no tiene tramos diferenciados, sino que es una curva continua con un punto de inflexión en el punto crítico. Esto indica que desaparece la diferencia entre \"fase líquida\" y \"fase vapor\".\n",
        "- La isóbara supercrítica `P = 50 bar` tiene un comportamiento similar a la isóbara crítica, con desplazamiento del punto de inflexión; en cambio, la isóbara supercrítica `P = 100 bar` ya no tiene punto de inflexión.\n",
        "- La entropía de vaporización (diferencia entre la entropía de vapor saturado `sG_sat` y la entropía de líquido saturado `sL_sat`) disminuye a medida que aumenta la temperatura, haciéndose cero en el punto crítico.\n",
        "- En la región de vapor sobrecalentado (derecha de la línea de vapor saturado), la entropía aumenta al disminuir la presión bajo temperatura constante.\n",
        "- En la región de líquido subenfriado (izquierda de la línea de líquido saturado), la presión no tiene efectos significativos sobre la entropía (*líquido incompresible*)."
      ]
    },
    {
      "cell_type": "markdown",
      "metadata": {
        "id": "5E9OjWqKmiQ6"
      },
      "source": [
        "## Cálculos y diagramas Ph: fluido R134a\n",
        "\n",
        "El objetivo de esta sección es construir un diagrama Ph (presión - entalpía) para el refrigerante R134a, dentro de un amplio rango de condiciones operativas. En tal sentido, necesitaremos calcular varias isotermas (líneas de temperatura constante), así como la región de equilibrio líquido-vapor (líneas de saturación)."
      ]
    },
    {
      "cell_type": "markdown",
      "metadata": {
        "id": "B4m5X21FttlU"
      },
      "source": [
        "### Funciones vectorizadas\n",
        "\n",
        "A continuación, definimos nuestras propias funciones para calcular entalpía, trabajando con las unidades deseadas {T: K, P: bar, h: kJ/kg}:"
      ]
    },
    {
      "cell_type": "code",
      "execution_count": 16,
      "metadata": {
        "id": "5gvPnOiG3uI3"
      },
      "outputs": [],
      "source": [
        "def calc_h_TP(fluido, T, P_bar):\n",
        "    P = P_bar * 10**5\n",
        "    fluido.TP = T, P\n",
        "    h_kJ_kg = fluido.h / 1000\n",
        "    return h_kJ_kg\n",
        "\n",
        "def calc_h_sat_PQ(fluido, P_bar, Q):\n",
        "    \"\"\"Calcula la entalpía específica {h: kJ/(kg.K)} en la región de\n",
        "    saturación para un fluido disponible en la librería Cantera, a\n",
        "    partir de la presión {P: bar} y calidad de vapor {Q: --}\n",
        "    especificadas\"\"\"\n",
        "    P = P_bar * 10**5\n",
        "    fluido.PQ = P, Q\n",
        "    return fluido.h / 1000"
      ]
    },
    {
      "cell_type": "markdown",
      "metadata": {
        "id": "7vnLOCKu-tW3"
      },
      "source": [
        "Luego, aplicamos la **vectorización** de `NumPy` para trabajar con arreglos de múltiples valores:"
      ]
    },
    {
      "cell_type": "code",
      "execution_count": 17,
      "metadata": {
        "id": "MrCXxT6I-sbo"
      },
      "outputs": [],
      "source": [
        "calc_entalpias_isoterma = np.vectorize(calc_h_TP, excluded={\"fluid\", \"T\"})\n",
        "calc_entalpias_sat_PQ = np.vectorize(calc_h_sat_PQ, excluded={\"fluido\", \"Q\"})\n",
        "id_fases_isoterma = np.vectorize(id_fase_TP, excluded={\"fluid\", \"T\"})"
      ]
    },
    {
      "cell_type": "markdown",
      "metadata": {
        "id": "Px85HqkEuE_8"
      },
      "source": [
        "### Cálculos Ph: isoterma T1 = 300 K\n",
        "\n",
        "Utilizando la función `np.logspace`, vamos a definir un rango de presiones con suficientes puntos **logarítmicamente** equiespaciados. Este tipo de espaciado resulta útil cuando una variable cambia mucho su orden de magnitud, lo cual ocurre típicamente con la presión. En este ejemplo, trabajaremos con presiones desde $10^{-2}$ bar hasta $10^{+2}$ bar.\n",
        "\n",
        "Todos los puntos estarán a igual temperatura (T1 = 300 K). Para cada estado `(T1, P)`, se calculará la respectiva entalpía `h` y se determinará su fase."
      ]
    },
    {
      "cell_type": "code",
      "execution_count": 18,
      "metadata": {
        "colab": {
          "base_uri": "https://localhost:8080/",
          "height": 423
        },
        "id": "GVhpTs-LuAo9",
        "outputId": "e7b322da-1aaa-449a-d923-c4ab47857ad1"
      },
      "outputs": [
        {
          "output_type": "execute_result",
          "data": {
            "text/plain": [
              "        P [bar]   h [kJ/kg]           Fase\n",
              "0      0.010000  227.764562            gas\n",
              "1      0.010234  227.764155            gas\n",
              "2      0.010472  227.763739            gas\n",
              "3      0.010717  227.763313            gas\n",
              "4      0.010967  227.762877            gas\n",
              "..          ...         ...            ...\n",
              "395   91.180034   37.977927  supercritical\n",
              "396   93.309274   38.017130  supercritical\n",
              "397   95.488237   38.057873  supercritical\n",
              "398   97.718083   38.100210  supercritical\n",
              "399  100.000000   38.144197  supercritical\n",
              "\n",
              "[400 rows x 3 columns]"
            ],
            "text/html": [
              "\n",
              "  <div id=\"df-94e50e52-4b4e-4b7e-84f6-e26403b21ea3\" class=\"colab-df-container\">\n",
              "    <div>\n",
              "<style scoped>\n",
              "    .dataframe tbody tr th:only-of-type {\n",
              "        vertical-align: middle;\n",
              "    }\n",
              "\n",
              "    .dataframe tbody tr th {\n",
              "        vertical-align: top;\n",
              "    }\n",
              "\n",
              "    .dataframe thead th {\n",
              "        text-align: right;\n",
              "    }\n",
              "</style>\n",
              "<table border=\"1\" class=\"dataframe\">\n",
              "  <thead>\n",
              "    <tr style=\"text-align: right;\">\n",
              "      <th></th>\n",
              "      <th>P [bar]</th>\n",
              "      <th>h [kJ/kg]</th>\n",
              "      <th>Fase</th>\n",
              "    </tr>\n",
              "  </thead>\n",
              "  <tbody>\n",
              "    <tr>\n",
              "      <th>0</th>\n",
              "      <td>0.010000</td>\n",
              "      <td>227.764562</td>\n",
              "      <td>gas</td>\n",
              "    </tr>\n",
              "    <tr>\n",
              "      <th>1</th>\n",
              "      <td>0.010234</td>\n",
              "      <td>227.764155</td>\n",
              "      <td>gas</td>\n",
              "    </tr>\n",
              "    <tr>\n",
              "      <th>2</th>\n",
              "      <td>0.010472</td>\n",
              "      <td>227.763739</td>\n",
              "      <td>gas</td>\n",
              "    </tr>\n",
              "    <tr>\n",
              "      <th>3</th>\n",
              "      <td>0.010717</td>\n",
              "      <td>227.763313</td>\n",
              "      <td>gas</td>\n",
              "    </tr>\n",
              "    <tr>\n",
              "      <th>4</th>\n",
              "      <td>0.010967</td>\n",
              "      <td>227.762877</td>\n",
              "      <td>gas</td>\n",
              "    </tr>\n",
              "    <tr>\n",
              "      <th>...</th>\n",
              "      <td>...</td>\n",
              "      <td>...</td>\n",
              "      <td>...</td>\n",
              "    </tr>\n",
              "    <tr>\n",
              "      <th>395</th>\n",
              "      <td>91.180034</td>\n",
              "      <td>37.977927</td>\n",
              "      <td>supercritical</td>\n",
              "    </tr>\n",
              "    <tr>\n",
              "      <th>396</th>\n",
              "      <td>93.309274</td>\n",
              "      <td>38.017130</td>\n",
              "      <td>supercritical</td>\n",
              "    </tr>\n",
              "    <tr>\n",
              "      <th>397</th>\n",
              "      <td>95.488237</td>\n",
              "      <td>38.057873</td>\n",
              "      <td>supercritical</td>\n",
              "    </tr>\n",
              "    <tr>\n",
              "      <th>398</th>\n",
              "      <td>97.718083</td>\n",
              "      <td>38.100210</td>\n",
              "      <td>supercritical</td>\n",
              "    </tr>\n",
              "    <tr>\n",
              "      <th>399</th>\n",
              "      <td>100.000000</td>\n",
              "      <td>38.144197</td>\n",
              "      <td>supercritical</td>\n",
              "    </tr>\n",
              "  </tbody>\n",
              "</table>\n",
              "<p>400 rows × 3 columns</p>\n",
              "</div>\n",
              "    <div class=\"colab-df-buttons\">\n",
              "\n",
              "  <div class=\"colab-df-container\">\n",
              "    <button class=\"colab-df-convert\" onclick=\"convertToInteractive('df-94e50e52-4b4e-4b7e-84f6-e26403b21ea3')\"\n",
              "            title=\"Convert this dataframe to an interactive table.\"\n",
              "            style=\"display:none;\">\n",
              "\n",
              "  <svg xmlns=\"http://www.w3.org/2000/svg\" height=\"24px\" viewBox=\"0 -960 960 960\">\n",
              "    <path d=\"M120-120v-720h720v720H120Zm60-500h600v-160H180v160Zm220 220h160v-160H400v160Zm0 220h160v-160H400v160ZM180-400h160v-160H180v160Zm440 0h160v-160H620v160ZM180-180h160v-160H180v160Zm440 0h160v-160H620v160Z\"/>\n",
              "  </svg>\n",
              "    </button>\n",
              "\n",
              "  <style>\n",
              "    .colab-df-container {\n",
              "      display:flex;\n",
              "      gap: 12px;\n",
              "    }\n",
              "\n",
              "    .colab-df-convert {\n",
              "      background-color: #E8F0FE;\n",
              "      border: none;\n",
              "      border-radius: 50%;\n",
              "      cursor: pointer;\n",
              "      display: none;\n",
              "      fill: #1967D2;\n",
              "      height: 32px;\n",
              "      padding: 0 0 0 0;\n",
              "      width: 32px;\n",
              "    }\n",
              "\n",
              "    .colab-df-convert:hover {\n",
              "      background-color: #E2EBFA;\n",
              "      box-shadow: 0px 1px 2px rgba(60, 64, 67, 0.3), 0px 1px 3px 1px rgba(60, 64, 67, 0.15);\n",
              "      fill: #174EA6;\n",
              "    }\n",
              "\n",
              "    .colab-df-buttons div {\n",
              "      margin-bottom: 4px;\n",
              "    }\n",
              "\n",
              "    [theme=dark] .colab-df-convert {\n",
              "      background-color: #3B4455;\n",
              "      fill: #D2E3FC;\n",
              "    }\n",
              "\n",
              "    [theme=dark] .colab-df-convert:hover {\n",
              "      background-color: #434B5C;\n",
              "      box-shadow: 0px 1px 3px 1px rgba(0, 0, 0, 0.15);\n",
              "      filter: drop-shadow(0px 1px 2px rgba(0, 0, 0, 0.3));\n",
              "      fill: #FFFFFF;\n",
              "    }\n",
              "  </style>\n",
              "\n",
              "    <script>\n",
              "      const buttonEl =\n",
              "        document.querySelector('#df-94e50e52-4b4e-4b7e-84f6-e26403b21ea3 button.colab-df-convert');\n",
              "      buttonEl.style.display =\n",
              "        google.colab.kernel.accessAllowed ? 'block' : 'none';\n",
              "\n",
              "      async function convertToInteractive(key) {\n",
              "        const element = document.querySelector('#df-94e50e52-4b4e-4b7e-84f6-e26403b21ea3');\n",
              "        const dataTable =\n",
              "          await google.colab.kernel.invokeFunction('convertToInteractive',\n",
              "                                                    [key], {});\n",
              "        if (!dataTable) return;\n",
              "\n",
              "        const docLinkHtml = 'Like what you see? Visit the ' +\n",
              "          '<a target=\"_blank\" href=https://colab.research.google.com/notebooks/data_table.ipynb>data table notebook</a>'\n",
              "          + ' to learn more about interactive tables.';\n",
              "        element.innerHTML = '';\n",
              "        dataTable['output_type'] = 'display_data';\n",
              "        await google.colab.output.renderOutput(dataTable, element);\n",
              "        const docLink = document.createElement('div');\n",
              "        docLink.innerHTML = docLinkHtml;\n",
              "        element.appendChild(docLink);\n",
              "      }\n",
              "    </script>\n",
              "  </div>\n",
              "\n",
              "\n",
              "<div id=\"df-3427fcb6-99ba-4a6f-b5c6-b7ce5aac573b\">\n",
              "  <button class=\"colab-df-quickchart\" onclick=\"quickchart('df-3427fcb6-99ba-4a6f-b5c6-b7ce5aac573b')\"\n",
              "            title=\"Suggest charts\"\n",
              "            style=\"display:none;\">\n",
              "\n",
              "<svg xmlns=\"http://www.w3.org/2000/svg\" height=\"24px\"viewBox=\"0 0 24 24\"\n",
              "     width=\"24px\">\n",
              "    <g>\n",
              "        <path d=\"M19 3H5c-1.1 0-2 .9-2 2v14c0 1.1.9 2 2 2h14c1.1 0 2-.9 2-2V5c0-1.1-.9-2-2-2zM9 17H7v-7h2v7zm4 0h-2V7h2v10zm4 0h-2v-4h2v4z\"/>\n",
              "    </g>\n",
              "</svg>\n",
              "  </button>\n",
              "\n",
              "<style>\n",
              "  .colab-df-quickchart {\n",
              "      --bg-color: #E8F0FE;\n",
              "      --fill-color: #1967D2;\n",
              "      --hover-bg-color: #E2EBFA;\n",
              "      --hover-fill-color: #174EA6;\n",
              "      --disabled-fill-color: #AAA;\n",
              "      --disabled-bg-color: #DDD;\n",
              "  }\n",
              "\n",
              "  [theme=dark] .colab-df-quickchart {\n",
              "      --bg-color: #3B4455;\n",
              "      --fill-color: #D2E3FC;\n",
              "      --hover-bg-color: #434B5C;\n",
              "      --hover-fill-color: #FFFFFF;\n",
              "      --disabled-bg-color: #3B4455;\n",
              "      --disabled-fill-color: #666;\n",
              "  }\n",
              "\n",
              "  .colab-df-quickchart {\n",
              "    background-color: var(--bg-color);\n",
              "    border: none;\n",
              "    border-radius: 50%;\n",
              "    cursor: pointer;\n",
              "    display: none;\n",
              "    fill: var(--fill-color);\n",
              "    height: 32px;\n",
              "    padding: 0;\n",
              "    width: 32px;\n",
              "  }\n",
              "\n",
              "  .colab-df-quickchart:hover {\n",
              "    background-color: var(--hover-bg-color);\n",
              "    box-shadow: 0 1px 2px rgba(60, 64, 67, 0.3), 0 1px 3px 1px rgba(60, 64, 67, 0.15);\n",
              "    fill: var(--button-hover-fill-color);\n",
              "  }\n",
              "\n",
              "  .colab-df-quickchart-complete:disabled,\n",
              "  .colab-df-quickchart-complete:disabled:hover {\n",
              "    background-color: var(--disabled-bg-color);\n",
              "    fill: var(--disabled-fill-color);\n",
              "    box-shadow: none;\n",
              "  }\n",
              "\n",
              "  .colab-df-spinner {\n",
              "    border: 2px solid var(--fill-color);\n",
              "    border-color: transparent;\n",
              "    border-bottom-color: var(--fill-color);\n",
              "    animation:\n",
              "      spin 1s steps(1) infinite;\n",
              "  }\n",
              "\n",
              "  @keyframes spin {\n",
              "    0% {\n",
              "      border-color: transparent;\n",
              "      border-bottom-color: var(--fill-color);\n",
              "      border-left-color: var(--fill-color);\n",
              "    }\n",
              "    20% {\n",
              "      border-color: transparent;\n",
              "      border-left-color: var(--fill-color);\n",
              "      border-top-color: var(--fill-color);\n",
              "    }\n",
              "    30% {\n",
              "      border-color: transparent;\n",
              "      border-left-color: var(--fill-color);\n",
              "      border-top-color: var(--fill-color);\n",
              "      border-right-color: var(--fill-color);\n",
              "    }\n",
              "    40% {\n",
              "      border-color: transparent;\n",
              "      border-right-color: var(--fill-color);\n",
              "      border-top-color: var(--fill-color);\n",
              "    }\n",
              "    60% {\n",
              "      border-color: transparent;\n",
              "      border-right-color: var(--fill-color);\n",
              "    }\n",
              "    80% {\n",
              "      border-color: transparent;\n",
              "      border-right-color: var(--fill-color);\n",
              "      border-bottom-color: var(--fill-color);\n",
              "    }\n",
              "    90% {\n",
              "      border-color: transparent;\n",
              "      border-bottom-color: var(--fill-color);\n",
              "    }\n",
              "  }\n",
              "</style>\n",
              "\n",
              "  <script>\n",
              "    async function quickchart(key) {\n",
              "      const quickchartButtonEl =\n",
              "        document.querySelector('#' + key + ' button');\n",
              "      quickchartButtonEl.disabled = true;  // To prevent multiple clicks.\n",
              "      quickchartButtonEl.classList.add('colab-df-spinner');\n",
              "      try {\n",
              "        const charts = await google.colab.kernel.invokeFunction(\n",
              "            'suggestCharts', [key], {});\n",
              "      } catch (error) {\n",
              "        console.error('Error during call to suggestCharts:', error);\n",
              "      }\n",
              "      quickchartButtonEl.classList.remove('colab-df-spinner');\n",
              "      quickchartButtonEl.classList.add('colab-df-quickchart-complete');\n",
              "    }\n",
              "    (() => {\n",
              "      let quickchartButtonEl =\n",
              "        document.querySelector('#df-3427fcb6-99ba-4a6f-b5c6-b7ce5aac573b button');\n",
              "      quickchartButtonEl.style.display =\n",
              "        google.colab.kernel.accessAllowed ? 'block' : 'none';\n",
              "    })();\n",
              "  </script>\n",
              "</div>\n",
              "\n",
              "    </div>\n",
              "  </div>\n"
            ],
            "application/vnd.google.colaboratory.intrinsic+json": {
              "type": "dataframe",
              "summary": "{\n  \"name\": \"pd\",\n  \"rows\": 400,\n  \"fields\": [\n    {\n      \"column\": \"P [bar]\",\n      \"properties\": {\n        \"dtype\": \"number\",\n        \"std\": 20.861236465896585,\n        \"min\": 0.01,\n        \"max\": 100.0,\n        \"num_unique_values\": 400,\n        \"samples\": [\n          1.245197084735032,\n          6.412354795576917,\n          0.021420374903583842\n        ],\n        \"semantic_type\": \"\",\n        \"description\": \"\"\n      }\n    },\n    {\n      \"column\": \"h [kJ/kg]\",\n      \"properties\": {\n        \"dtype\": \"number\",\n        \"std\": 85.68699167513135,\n        \"min\": 37.07129003616488,\n        \"max\": 227.7645622312248,\n        \"num_unique_values\": 400,\n        \"samples\": [\n          225.563654654918,\n          214.7235675656206,\n          227.7446668062054\n        ],\n        \"semantic_type\": \"\",\n        \"description\": \"\"\n      }\n    },\n    {\n      \"column\": \"Fase\",\n      \"properties\": {\n        \"dtype\": \"category\",\n        \"num_unique_values\": 3,\n        \"samples\": [\n          \"gas\",\n          \"liquid\",\n          \"supercritical\"\n        ],\n        \"semantic_type\": \"\",\n        \"description\": \"\"\n      }\n    }\n  ]\n}"
            }
          },
          "metadata": {},
          "execution_count": 18
        }
      ],
      "source": [
        "# Intervalo de presiones\n",
        "# P: 0.01 bar - 100 bar\n",
        "presiones_bar_isotermas = np.logspace(-2, 2, 400)\n",
        "# Temperatura especificada\n",
        "T1 = 300 # K\n",
        "# Cálculo de propiedades\n",
        "kwargs_T1 = {'fluido': R134a, 'T': T1, 'P_bar': presiones_bar_isotermas}\n",
        "entalpias_T1 = calc_entalpias_isoterma(**kwargs_T1)\n",
        "fases_T1 = id_fases_isoterma(**kwargs_T1)\n",
        "# Representación tabular --> pandas DataFrame\n",
        "isoterma_Ph_T1 = {\n",
        "    'P [bar]': presiones_bar_isotermas,\n",
        "    'h [kJ/kg]': entalpias_T1,\n",
        "    'Fase': fases_T1,\n",
        "    }\n",
        "pd.DataFrame(isoterma_Ph_T1)"
      ]
    },
    {
      "cell_type": "markdown",
      "metadata": {
        "id": "cUFDlETRoC-s"
      },
      "source": [
        "### Diagrama Ph: isoterma T1 = 300 K\n",
        "\n",
        "Para visualizar mejor los resultados, graficaremos un primer diagrama Ph. Definimos una función que sirva como \"plantilla\" para este tipo de figuras; más adelante, la reutilizaremos para graficar el diagrama completo. Nuevamente, trabajaremos con la librería `Matplotlib`."
      ]
    },
    {
      "cell_type": "code",
      "execution_count": 19,
      "metadata": {
        "id": "THGSKsXywmSV"
      },
      "outputs": [],
      "source": [
        "def config_diagrama_Ph(titulo: str) -> None:\n",
        "    plt.title(titulo)\n",
        "    plt.xlabel(\"Entalpía específica [kJ/kg]\")\n",
        "    plt.ylabel(\"Presión [bar]\")\n",
        "    plt.yscale(\"log\")   # Escalado logarítmico (presión)\n",
        "    plt.minorticks_on() # Subdivisiones secundarias en los ejes\n",
        "    plt.grid(True)      # cuadriculado"
      ]
    },
    {
      "cell_type": "code",
      "execution_count": 20,
      "metadata": {
        "colab": {
          "base_uri": "https://localhost:8080/",
          "height": 472
        },
        "id": "NlRVRPHJxBT9",
        "outputId": "e0f1f0e8-f462-4500-dfc4-2b16a9ab4a55"
      },
      "outputs": [
        {
          "output_type": "display_data",
          "data": {
            "text/plain": [
              "<Figure size 640x480 with 1 Axes>"
            ],
            "image/png": "[encoded data removed]"
          },
          "metadata": {}
        }
      ],
      "source": [
        "titulo_fig_3 = \"Fig. 3: Isoterma Ph del R134a\"\n",
        "config_diagrama_Ph(titulo_fig_3)\n",
        "plt.plot(entalpias_T1, presiones_bar_isotermas, '-k', label=\"T1 = 300 K\")\n",
        "estilo_anotacion = {\n",
        "    \"fontsize\": 8,\n",
        "    \"fontweight\": \"semibold\",\n",
        "    \"arrowprops\": dict(linewidth=2, arrowstyle=\"->\")\n",
        "    }\n",
        "plt.annotate(\"Líquido\",\n",
        "             xy=(35, 20), xytext=(50, 20),\n",
        "             color=\"blue\", **estilo_anotacion)\n",
        "plt.annotate(\"Equilibrio Líquido - Vapor\",\n",
        "             xy=(125, 7), xytext=(125, 20),\n",
        "             color=\"magenta\", **estilo_anotacion)\n",
        "plt.annotate(\"Vapor\",\n",
        "             xy=(225, 1), xytext=(190, 1),\n",
        "             color=\"red\", **estilo_anotacion)\n",
        "plt.legend()\n",
        "plt.show()"
      ]
    },
    {
      "cell_type": "markdown",
      "metadata": {
        "id": "JMgPG97oHrNj"
      },
      "source": [
        "Podemos diferenciar 3 regiones en la isoterma graficada.\n",
        "\n",
        "- **Líquido subenfriado**: la entalpía es prácticamente constante respecto a la presión; se puede aplicar la aproximación de *líquido incompresible*.\n",
        "- **Equilibrio líquido-vapor**: la presión se mantiene constante, pero la entalpía sigue aumentando a medida que evoluciona la transición de líquido saturado (izquierda) hasta vapor saturado (derecha).\n",
        "- **Vapor sobrecalentado**: la entalpía aumenta ligeramente a medida que disminuye la presión, hasta prácticamente alcanzar su valor límite de *gas ideal*.\n",
        "\n",
        "Sobre las escalas de la figura 3, se pueden comentar los siguientes puntos:\n",
        "- De haber mantenido las unidades originales para h (J/Kg), tendríamos valores 1000 veces mayores en el eje de entalpía (50000 - 225000), lo cual restaría legibilidad. Dividir por 1000 (para cambiar la unidad) es un ejemplo de transformación lineal.\n",
        "- Se utilizó una escala logarítmica (en lugar de lineal) para el eje de P, porque esta variable cambia significativamente su orden de magnitud (10^-2 --> 10^+2 bar). Esto es un ejemplo de transformación logarítmica. Con una escala lineal, veríamos mejor qué ocurre a altas presiones pero no se distinguiría apropiadamente qué ocurre a bajas presiones (por ejemplo: P <= 1 bar).\n"
      ]
    },
    {
      "cell_type": "markdown",
      "metadata": {
        "id": "4oK-MDEHnB4Y"
      },
      "source": [
        "### Cálculos Ph: líneas isotermas\n",
        "\n",
        "Para construir un diagrama Ph más completo, debemos calcular varias isotermas. Una vez definida la lista de temperaturas de trabajo, se calculan las entalpías para cada isoterma mediante un `dict comprehension`:"
      ]
    },
    {
      "cell_type": "code",
      "execution_count": 21,
      "metadata": {
        "id": "Ak4r5GFsAJu4"
      },
      "outputs": [],
      "source": [
        "Tc = 374.21 # K\n",
        "temperaturas_isotermas = [185, 205, 245, 310, Tc, 450] # K\n",
        "# dict_comprehension\n",
        "entalpias_isotermas = {\n",
        "    Ti: calc_entalpias_isoterma(R134a, Ti, presiones_bar_isotermas)\n",
        "    for Ti in temperaturas_isotermas\n",
        "    }"
      ]
    },
    {
      "cell_type": "markdown",
      "metadata": {
        "id": "pfV5gtiDm1JD"
      },
      "source": [
        "### Cálculos Ph: líneas de saturación\n",
        "\n",
        "Para calcular las líneas de equilibrio líquido-vapor, debemos definir un nuevo rango de presiones que no exceda la presión crítica `Pc`. La campana de saturación se construye a partir de la línea de líquido saturado, la línea de vapor saturado y el punto crítico (en el cual se unen ambas líneas)."
      ]
    },
    {
      "cell_type": "code",
      "execution_count": 22,
      "metadata": {
        "id": "2Gs_ml4ioV63"
      },
      "outputs": [],
      "source": [
        "# Rango de presiones de saturación\n",
        "P0 = 0.01 # bar\n",
        "# La Pc es 40.6 bar. El programa eleva una excepción 'CanteraError' si\n",
        "# intentamos con Pf >= 40.0 bar\n",
        "Pf = 39.9\n",
        "presiones_sat_bar = np.logspace(np.log10(P0), np.log10(Pf), 200)\n",
        "# Líquido saturado\n",
        "hL_sat_data = calc_entalpias_sat_PQ(fluido=R134a, P_bar=presiones_sat_bar, Q=0)\n",
        "# Vapor saturado\n",
        "hG_sat_data = calc_entalpias_sat_PQ(fluido=R134a, P_bar=presiones_sat_bar, Q=1)\n",
        "# Punto crítico\n",
        "hc = calc_h_TP(R134a, Tc, Pc_bar)"
      ]
    },
    {
      "cell_type": "markdown",
      "metadata": {
        "id": "rT2tf1_imwDp"
      },
      "source": [
        "### Diagrama Ph completo\n"
      ]
    },
    {
      "cell_type": "code",
      "execution_count": 23,
      "metadata": {
        "colab": {
          "base_uri": "https://localhost:8080/",
          "height": 472
        },
        "id": "_oiEob0N_001",
        "outputId": "5a220cdb-7458-4ef1-abc9-b80aa9e3e9b8"
      },
      "outputs": [
        {
          "output_type": "display_data",
          "data": {
            "text/plain": [
              "<Figure size 640x480 with 1 Axes>"
            ],
            "image/png": "[encoded data removed]"
          },
          "metadata": {}
        }
      ],
      "source": [
        "titulo_fig_4 = \"Fig. 4: Diagrama Ph del R134a\"\n",
        "config_diagrama_Ph(titulo_fig_4)\n",
        "colores_isotermas = [\n",
        "    'orange',\n",
        "    'green',\n",
        "    'teal',\n",
        "    'magenta',\n",
        "    'black',\n",
        "    'maroon'\n",
        "    ]\n",
        "# Graficando isotermas\n",
        "for T, color in zip(temperaturas_isotermas, colores_isotermas):\n",
        "    plt.plot(\n",
        "        entalpias_isotermas[T],\n",
        "        presiones_bar_isotermas,\n",
        "        label=f\"{T = :.1f} K\",\n",
        "        color=color,\n",
        "        linestyle=\"dashed\",\n",
        "        )\n",
        "# Graficando líneas de saturacion\n",
        "plt.plot(hL_sat_data, presiones_sat_bar, \"-b\", label=\"Líq. sat.\")\n",
        "plt.plot(hG_sat_data, presiones_sat_bar, \"-r\", label=\"Vap. sat.\")\n",
        "# Graficando punto crítico\n",
        "plt.plot(hc, Pc_bar, \"-ok\", label=\"Punto crítico\")\n",
        "# Limites del eje horizontal\n",
        "plt.xlim(-120, 420)\n",
        "# Mostrando leyenda y gráfica\n",
        "plt.legend(loc=\"center right\", bbox_to_anchor=(1.35, 0.5))\n",
        "plt.show()"
      ]
    },
    {
      "cell_type": "markdown",
      "metadata": {
        "id": "k40pUXhZPZXo"
      },
      "source": [
        "- Las isotermas subcríticas `(T < Tc)` muestran el mismo comportamiento de la figura 3, tal como se esperaba.\n",
        "- La isoterma crítica `(T = Tc = 347.2 K)` no tiene tramos diferenciados, sino que es una curva continua con un punto de inflexión en el punto crítico. Esto indica que desaparece la diferencia entre \"fase líquida\" y \"fase vapor\".\n",
        "- La isoterma supercrítica `T = 450 K` es una curva continua, a semejanza de la isoterma crítica, pero sin punto de inflexión.\n",
        "- La entalpía de vaporización (diferencia entre la entropía de vapor saturado `sG_sat` y la entropía de líquido saturado `sL_sat`) disminuye a medida que aumenta la temperatura, haciéndose cero en el punto crítico.\n",
        "- En la región de vapor sobrecalentado (derecha de la línea de vapor saturado), la entropía aumenta al disminuir la presión bajo temperatura constante.\n",
        "- En la región de líquido subenfriado (izquierda de la línea de líquido saturado), la presión no tiene efectos significativos sobre la entropía (*líquido incompresible*).\n"
      ]
    },
    {
      "cell_type": "markdown",
      "source": [
        "### Aplicaciones del diagrama Ph\n",
        "\n",
        "Hasta ahora, nos hemos enfocado en cómo calcular las propiedades termodinámicas y graficarlas apropiadadamente. Una pregunta interesante sería: **¿Cómo podemos aplicar la información de un diagrama Ph?**\n",
        "\n",
        "La mínima temperatura que se puede lograr con un ciclo de refrigeración depende de la presión del evaporador y del fluido refrigerante. Por ejemplo, si el evaporador opera a una presión P = 1 bar, la temperatura de saturación correspondiente para el R134a sería T = 205 K, porque esa isoterma coincide con la línea de P = 1 bar dentro de la campana de saturación. Además, leyendo las entalpías de vapor saturado (hG_sat = 180 kJ/kg) y líquido saturado (hL_sat = -40 kJ/kg), se obtiene por diferencia la entalpía de vaporización (h_vap = 220 kJ/kg). Podríamos concluir lo siguiente:\n",
        "\n",
        "> A una presión de 1 bar, se puede utilizar R134a para refrigerar un espacio de trabajo hasta 205 K, con una capacidad de enfriamiento de 220 kJ por cada 1 kg de refrigerante consumido.\n",
        "\n",
        "La temperatura máxima del ciclo de refrigeración ocurre en el condensador, cuando el refrigerante cede calor al ambiente. Si consideramos una T = 310 K (ligeramente superior a la del ambiente), entonces la presión del condensador sería P = 10 bar (ver isoterma en la campana). Aplicando un análisis similar al evaporador, se obtiene la entalpía de vaporización: h_vap = 170 kJ/Kg. Podríamos concluir que:\n",
        "\n",
        "> Para una temperatura de 310 K en el condensador, la presión requerida para el R134a es de 10 bar y se desecha calor a razón de 170 kJ por cada 1 kg de refrigerante."
      ],
      "metadata": {
        "id": "kDoIQ_jnt-2k"
      }
    },
    {
      "cell_type": "markdown",
      "metadata": {
        "id": "gMqmTCqfvK5x"
      },
      "source": [
        "## Conclusiones\n",
        "\n",
        "- Python ofrece varias herramientas de cálculo aplicables a Ingeniería.\n",
        "- La librería Cantera permite calcular de forma rápida y exacta las propiedades termodinámicas varios fluidos puros, como el agua y el refrigerante R134a.\n",
        "- La librería NumPy permite aplicar funciones sobre arreglos de muchos datos.\n",
        "- La librería Matplotlib permite graficar conjuntos de datos, con varias funcionalidades para personalizar las figuras.\n",
        "- Las transformaciones de variables y cambios de escalas son estrategias útiles para el análisis de datos.\n",
        "- Los diagramas termodinámicos son útiles para identificar condiciones operativas en ciclos de refrigeración.\n"
      ]
    }
  ],
  "metadata": {
    "colab": {
      "provenance": [],
      "toc_visible": true,
      "include_colab_link": true
    },
    "kernelspec": {
      "display_name": "Python 3",
      "name": "python3"
    },
    "language_info": {
      "name": "python",
      "version": "3.11.6"
    }
  },
  "nbformat": 4,
  "nbformat_minor": 0
}